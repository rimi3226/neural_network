{
 "cells": [
  {
   "cell_type": "code",
   "execution_count": 1,
   "metadata": {},
   "outputs": [
    {
     "name": "stdout",
     "output_type": "stream",
     "text": [
      "load complete\n",
      "Fold 1/5\n",
      "Epoch 1/20, Loss: 5.305054070017219, Accuracy: 0.006493506493506494, Val Loss: 5.306345458277037, Val Accuracy: 0.006493506493506494\n",
      "Epoch 2/20, Loss: 5.309699212497289, Accuracy: 0.006493506493506494, Val Loss: 5.307422803307442, Val Accuracy: 0.006493506493506494\n",
      "Epoch 3/20, Loss: 5.316528440066827, Accuracy: 0.006493506493506494, Val Loss: 5.325634076826213, Val Accuracy: 0.006493506493506494\n",
      "Epoch 4/20, Loss: 12.484133839639906, Accuracy: 0.005681818181818182, Val Loss: 12.427475846156925, Val Accuracy: 0.007378984651711925\n",
      "Epoch 5/20, Loss: 12.484133839639906, Accuracy: 0.005681818181818182, Val Loss: 12.427475846156925, Val Accuracy: 0.007378984651711925\n",
      "Epoch 6/20, Loss: 12.484133839639906, Accuracy: 0.005681818181818182, Val Loss: 12.427475846156925, Val Accuracy: 0.007378984651711925\n",
      "Epoch 7/20, Loss: 12.484133839639906, Accuracy: 0.005681818181818182, Val Loss: 12.427475846156925, Val Accuracy: 0.007378984651711925\n",
      "Epoch 8/20, Loss: 12.484133839639906, Accuracy: 0.005681818181818182, Val Loss: 12.427475846156925, Val Accuracy: 0.007378984651711925\n",
      "Epoch 9/20, Loss: 12.484133839639906, Accuracy: 0.005681818181818182, Val Loss: 12.427475846156925, Val Accuracy: 0.007378984651711925\n",
      "Epoch 10/20, Loss: 12.484133839639906, Accuracy: 0.005681818181818182, Val Loss: 12.427475846156925, Val Accuracy: 0.007378984651711925\n",
      "Epoch 11/20, Loss: 12.484133839639906, Accuracy: 0.005681818181818182, Val Loss: 12.427475846156925, Val Accuracy: 0.007378984651711925\n",
      "Epoch 12/20, Loss: 12.484133839639906, Accuracy: 0.005681818181818182, Val Loss: 12.427475846156925, Val Accuracy: 0.007378984651711925\n",
      "Epoch 13/20, Loss: 12.484133839639906, Accuracy: 0.005681818181818182, Val Loss: 12.427475846156925, Val Accuracy: 0.007378984651711925\n",
      "Epoch 14/20, Loss: 12.484133839639906, Accuracy: 0.005681818181818182, Val Loss: 12.427475846156925, Val Accuracy: 0.007378984651711925\n",
      "Epoch 15/20, Loss: 12.484133839639906, Accuracy: 0.005681818181818182, Val Loss: 12.427475846156925, Val Accuracy: 0.007378984651711925\n",
      "Epoch 16/20, Loss: 12.484133839639906, Accuracy: 0.005681818181818182, Val Loss: 12.427475846156925, Val Accuracy: 0.007378984651711925\n",
      "Epoch 17/20, Loss: 12.484133839639906, Accuracy: 0.005681818181818182, Val Loss: 12.427475846156925, Val Accuracy: 0.007378984651711925\n",
      "Epoch 18/20, Loss: 12.484133839639906, Accuracy: 0.005681818181818182, Val Loss: 12.427475846156925, Val Accuracy: 0.007378984651711925\n",
      "Epoch 19/20, Loss: 12.484133839639906, Accuracy: 0.005681818181818182, Val Loss: 12.427475846156925, Val Accuracy: 0.007378984651711925\n",
      "Epoch 20/20, Loss: 12.484133839639906, Accuracy: 0.005681818181818182, Val Loss: 12.427475846156925, Val Accuracy: 0.007378984651711925\n",
      "Fold 2/5\n",
      "Epoch 1/20, Loss: 12.034845613733792, Accuracy: 0.005534238488783943, Val Loss: 12.068330601922405, Val Accuracy: 0.0070838252656434475\n",
      "Epoch 2/20, Loss: 13.862697098380387, Accuracy: 0.00678866587957497, Val Loss: 13.926440328080195, Val Accuracy: 0.0070838252656434475\n",
      "Epoch 3/20, Loss: 6.150693682398071, Accuracy: 0.007747933884297521, Val Loss: 6.278459514729492, Val Accuracy: 0.006198347107438017\n",
      "Epoch 4/20, Loss: 6.150693682398071, Accuracy: 0.007747933884297521, Val Loss: 6.278459514729492, Val Accuracy: 0.006198347107438017\n",
      "Epoch 5/20, Loss: 6.150693682398071, Accuracy: 0.007747933884297521, Val Loss: 6.278459514729492, Val Accuracy: 0.006198347107438017\n",
      "Epoch 6/20, Loss: 6.150693682398071, Accuracy: 0.007747933884297521, Val Loss: 6.278459514729492, Val Accuracy: 0.006198347107438017\n",
      "Epoch 7/20, Loss: 6.150693682398071, Accuracy: 0.007747933884297521, Val Loss: 6.278459514729492, Val Accuracy: 0.006198347107438017\n",
      "Epoch 8/20, Loss: 6.150693682398071, Accuracy: 0.007747933884297521, Val Loss: 6.278459514729492, Val Accuracy: 0.006198347107438017\n",
      "Epoch 9/20, Loss: 6.150693682398071, Accuracy: 0.007747933884297521, Val Loss: 6.278459514729492, Val Accuracy: 0.006198347107438017\n",
      "Epoch 10/20, Loss: 6.150693682398071, Accuracy: 0.007747933884297521, Val Loss: 6.278459514729492, Val Accuracy: 0.006198347107438017\n",
      "Epoch 11/20, Loss: 6.150693682398071, Accuracy: 0.007747933884297521, Val Loss: 6.278459514729492, Val Accuracy: 0.006198347107438017\n",
      "Epoch 12/20, Loss: 6.150693682398071, Accuracy: 0.007747933884297521, Val Loss: 6.278459514729492, Val Accuracy: 0.006198347107438017\n",
      "Epoch 13/20, Loss: 6.150693682398071, Accuracy: 0.007747933884297521, Val Loss: 6.278459514729492, Val Accuracy: 0.006198347107438017\n",
      "Epoch 14/20, Loss: 6.150693682398071, Accuracy: 0.007747933884297521, Val Loss: 6.278459514729492, Val Accuracy: 0.006198347107438017\n",
      "Epoch 15/20, Loss: 6.150693682398071, Accuracy: 0.007747933884297521, Val Loss: 6.278459514729492, Val Accuracy: 0.006198347107438017\n",
      "Epoch 16/20, Loss: 6.150693682398071, Accuracy: 0.007747933884297521, Val Loss: 6.278459514729492, Val Accuracy: 0.006198347107438017\n"
     ]
    },
    {
     "ename": "KeyboardInterrupt",
     "evalue": "",
     "output_type": "error",
     "traceback": [
      "\u001b[0;31m---------------------------------------------------------------------------\u001b[0m",
      "\u001b[0;31mKeyboardInterrupt\u001b[0m                         Traceback (most recent call last)",
      "Cell \u001b[0;32mIn[1], line 49\u001b[0m\n\u001b[1;32m     45\u001b[0m \u001b[38;5;28;01mfor\u001b[39;00m i, (X_train, y_train, X_val, y_val) \u001b[38;5;129;01min\u001b[39;00m \u001b[38;5;28menumerate\u001b[39m(folds):\n\u001b[1;32m     46\u001b[0m     \u001b[38;5;66;03m# print(\"X_train shape:\", X_train.shape)  # 각 fold의 데이터 크기 확인\u001b[39;00m\n\u001b[1;32m     47\u001b[0m     \u001b[38;5;66;03m# print(\"X_val shape:\", X_val.shape)\u001b[39;00m\n\u001b[1;32m     48\u001b[0m     \u001b[38;5;28mprint\u001b[39m(\u001b[38;5;124mf\u001b[39m\u001b[38;5;124m\"\u001b[39m\u001b[38;5;124mFold \u001b[39m\u001b[38;5;132;01m{\u001b[39;00mi\u001b[38;5;250m \u001b[39m\u001b[38;5;241m+\u001b[39m\u001b[38;5;250m \u001b[39m\u001b[38;5;241m1\u001b[39m\u001b[38;5;132;01m}\u001b[39;00m\u001b[38;5;124m/\u001b[39m\u001b[38;5;132;01m{\u001b[39;00m\u001b[38;5;28mlen\u001b[39m(folds)\u001b[38;5;132;01m}\u001b[39;00m\u001b[38;5;124m\"\u001b[39m)\n\u001b[0;32m---> 49\u001b[0m     \u001b[43mtrain_instance\u001b[49m\u001b[38;5;241;43m.\u001b[39;49m\u001b[43mtrain\u001b[49m\u001b[43m(\u001b[49m\u001b[43mX_train\u001b[49m\u001b[43m,\u001b[49m\u001b[43m \u001b[49m\u001b[43my_train\u001b[49m\u001b[43m,\u001b[49m\u001b[43m \u001b[49m\u001b[43mX_val\u001b[49m\u001b[43m,\u001b[49m\u001b[43m \u001b[49m\u001b[43my_val\u001b[49m\u001b[43m)\u001b[49m\n\u001b[1;32m     51\u001b[0m \u001b[38;5;66;03m# 결과 저장 및 시각화\u001b[39;00m\n\u001b[1;32m     52\u001b[0m train_instance\u001b[38;5;241m.\u001b[39msave_results(results_path\u001b[38;5;241m=\u001b[39m\u001b[38;5;124m\"\u001b[39m\u001b[38;5;124mdropout05.csv\u001b[39m\u001b[38;5;124m\"\u001b[39m,weights_path\u001b[38;5;241m=\u001b[39m\u001b[38;5;124m\"\u001b[39m\u001b[38;5;124mdropout05_weights.csv\u001b[39m\u001b[38;5;124m\"\u001b[39m)\n",
      "File \u001b[0;32m~/Documents/GitHub/neural_network/src/class/Train.py:69\u001b[0m, in \u001b[0;36mTrain.train\u001b[0;34m(self, X_train, y_train, X_val, y_val)\u001b[0m\n\u001b[1;32m     67\u001b[0m         \u001b[38;5;28mself\u001b[39m\u001b[38;5;241m.\u001b[39mmodel\u001b[38;5;241m.\u001b[39mset_target_layer(np\u001b[38;5;241m.\u001b[39margmax(y))\n\u001b[1;32m     68\u001b[0m         \u001b[38;5;28mself\u001b[39m\u001b[38;5;241m.\u001b[39mmodel\u001b[38;5;241m.\u001b[39mforward_propagation()\n\u001b[0;32m---> 69\u001b[0m         \u001b[38;5;28;43mself\u001b[39;49m\u001b[38;5;241;43m.\u001b[39;49m\u001b[43mmodel\u001b[49m\u001b[38;5;241;43m.\u001b[39;49m\u001b[43mbackward_propagation\u001b[49m\u001b[43m(\u001b[49m\u001b[43m)\u001b[49m\n\u001b[1;32m     71\u001b[0m train_loss, train_accuracy \u001b[38;5;241m=\u001b[39m \u001b[38;5;28mself\u001b[39m\u001b[38;5;241m.\u001b[39mevaluate_cross_entropy(X_train, y_train)\n\u001b[1;32m     72\u001b[0m val_loss, val_accuracy \u001b[38;5;241m=\u001b[39m \u001b[38;5;28mself\u001b[39m\u001b[38;5;241m.\u001b[39mevaluate_cross_entropy(X_val, y_val)\n",
      "File \u001b[0;32m~/Documents/GitHub/neural_network/src/class/NeuralNetwork.py:88\u001b[0m, in \u001b[0;36mNeuralNetwork.backward_propagation\u001b[0;34m(self)\u001b[0m\n\u001b[1;32m     86\u001b[0m \u001b[38;5;28;01mfor\u001b[39;00m i \u001b[38;5;129;01min\u001b[39;00m \u001b[38;5;28mrange\u001b[39m(\u001b[38;5;241m1\u001b[39m,\u001b[38;5;28mlen\u001b[39m(\u001b[38;5;28mself\u001b[39m\u001b[38;5;241m.\u001b[39mlayers)):\n\u001b[1;32m     87\u001b[0m     prev_layer_vals \u001b[38;5;241m=\u001b[39m [node\u001b[38;5;241m.\u001b[39mval \u001b[38;5;28;01mfor\u001b[39;00m node \u001b[38;5;129;01min\u001b[39;00m \u001b[38;5;28mself\u001b[39m\u001b[38;5;241m.\u001b[39mlayers[i\u001b[38;5;241m-\u001b[39m\u001b[38;5;241m1\u001b[39m]\u001b[38;5;241m.\u001b[39mnodes]\n\u001b[0;32m---> 88\u001b[0m     \u001b[38;5;28;43mself\u001b[39;49m\u001b[38;5;241;43m.\u001b[39;49m\u001b[43mlayers\u001b[49m\u001b[43m[\u001b[49m\u001b[43mi\u001b[49m\u001b[43m]\u001b[49m\u001b[38;5;241;43m.\u001b[39;49m\u001b[43mupdate_weight\u001b[49m\u001b[43m(\u001b[49m\u001b[43mprev_layer_vals\u001b[49m\u001b[43m,\u001b[49m\u001b[43mi\u001b[49m\u001b[43m)\u001b[49m\n",
      "File \u001b[0;32m~/Documents/GitHub/neural_network/src/class/Layer.py:116\u001b[0m, in \u001b[0;36mLayer.update_weight\u001b[0;34m(self, prev_layer_val, what_layer)\u001b[0m\n\u001b[1;32m    112\u001b[0m \u001b[38;5;28;01mfor\u001b[39;00m i,node \u001b[38;5;129;01min\u001b[39;00m \u001b[38;5;28menumerate\u001b[39m(\u001b[38;5;28mself\u001b[39m\u001b[38;5;241m.\u001b[39mnodes):\n\u001b[1;32m    113\u001b[0m     \u001b[38;5;28;01mfor\u001b[39;00m j,weight \u001b[38;5;129;01min\u001b[39;00m \u001b[38;5;28menumerate\u001b[39m(node\u001b[38;5;241m.\u001b[39mweight):\n\u001b[1;32m    114\u001b[0m         \u001b[38;5;66;03m# print(\"------------------------------------\")\u001b[39;00m\n\u001b[1;32m    115\u001b[0m         \u001b[38;5;66;03m# print(weight)\u001b[39;00m\n\u001b[0;32m--> 116\u001b[0m         weight\u001b[38;5;241m-\u001b[39m\u001b[38;5;241m=\u001b[39m\u001b[38;5;28mself\u001b[39m\u001b[38;5;241m.\u001b[39mlearning_rate\u001b[38;5;241m*\u001b[39mnode\u001b[38;5;241m.\u001b[39mgradient\u001b[38;5;241m*\u001b[39mprev_layer_val[j]\n\u001b[1;32m    117\u001b[0m         \u001b[38;5;28mself\u001b[39m\u001b[38;5;241m.\u001b[39mnodes[i]\u001b[38;5;241m.\u001b[39mweight[j]\u001b[38;5;241m=\u001b[39mweight\n",
      "\u001b[0;31mKeyboardInterrupt\u001b[0m: "
     ]
    }
   ],
   "source": [
    "import os\n",
    "import sys \n",
    "import numpy as np\n",
    "import pandas as pd\n",
    "import matplotlib.pyplot as plt\n",
    "\n",
    "# 현재 작업 중인 Notebook의 경로 가져오기\n",
    "notebook_dir = os.getcwd()\n",
    "sys.path.append(os.path.abspath(os.path.join(notebook_dir, \"../../../utils\")))\n",
    "sys.path.append(os.path.abspath(os.path.join(notebook_dir, \"../../../class\")))\n",
    "\n",
    "from data import preprocess_data\n",
    "from Train import Train\n",
    "\n",
    "# 데이터 섞는 함수\n",
    "def shuffle_data(inputs, targets):\n",
    "    indices = np.random.permutation(inputs.shape[0])  # 데이터 인덱스 섞기\n",
    "    return inputs[indices], targets[indices]\n",
    "\n",
    "# 실험 설정\n",
    "csv_path = \"../../../Data/font_data.csv\"\n",
    "\n",
    "train_instance = Train(\n",
    "    epoch=20,\n",
    "    batch=64,\n",
    "    activation=\"relu\",\n",
    "    output_activation=\"softmax\",\n",
    "    weight_init=\"He\",\n",
    "    optimizer=\"adam\",\n",
    "    dropout=0.5,\n",
    "    learning_rate=0.01,\n",
    ")\n",
    "\n",
    "# 데이터 로드\n",
    "inputs, targets_one_hot, targets = train_instance.load_data(csv_path)\n",
    "print(\"load complete\")\n",
    "# 데이터 섞기\n",
    "inputs, targets_one_hot = shuffle_data(inputs, targets_one_hot)\n",
    "\n",
    "# K-Fold Cross Validation 준비\n",
    "folds = train_instance.k_fold_split(inputs, targets_one_hot)\n",
    "\n",
    "\n",
    "# 학습 실행\n",
    "for i, (X_train, y_train, X_val, y_val) in enumerate(folds):\n",
    "    # print(\"X_train shape:\", X_train.shape)  # 각 fold의 데이터 크기 확인\n",
    "    # print(\"X_val shape:\", X_val.shape)\n",
    "    print(f\"Fold {i + 1}/{len(folds)}\")\n",
    "    train_instance.train(X_train, y_train, X_val, y_val)\n",
    "\n",
    "# 결과 저장 및 시각화\n",
    "train_instance.save_results(results_path=\"dropout05.csv\",weights_path=\"dropout05_weights.csv\")\n",
    "train_instance.plot_history()"
   ]
  },
  {
   "cell_type": "code",
   "execution_count": null,
   "metadata": {},
   "outputs": [],
   "source": [
    "\n",
    "\n",
    "import os\n",
    "import sys \n",
    "import numpy as np\n",
    "import pandas as pd\n",
    "import matplotlib.pyplot as plt\n",
    "\n",
    "# 현재 작업 중인 Notebook의 경로 가져오기\n",
    "notebook_dir = os.getcwd()\n",
    "sys.path.append(os.path.abspath(os.path.join(notebook_dir, \"../../../utils\")))\n",
    "sys.path.append(os.path.abspath(os.path.join(notebook_dir, \"../../../class\")))\n",
    "\n",
    "from data import preprocess_data\n",
    "from Train import Train\n",
    "\n",
    "# 데이터 섞는 함수\n",
    "def shuffle_data(inputs, targets):\n",
    "    indices = np.random.permutation(inputs.shape[0])  # 데이터 인덱스 섞기\n",
    "    return inputs[indices], targets[indices]\n",
    "\n",
    "# 실험 설정\n",
    "csv_path = \"../../../Data/font_data.csv\"\n",
    "\n",
    "train_instance = Train(\n",
    "    epoch=20,\n",
    "    batch=64,\n",
    "    activation=\"relu\",\n",
    "    output_activation=\"softmax\",\n",
    "    weight_init=\"He\",\n",
    "    optimizer=\"adam\",\n",
    "    dropout=0.1,\n",
    "    learning_rate=0.01,\n",
    ")\n",
    "\n",
    "# 데이터 로드\n",
    "inputs, targets_one_hot, targets = train_instance.load_data(csv_path)\n",
    "\n",
    "# 데이터 섞기\n",
    "inputs, targets_one_hot = shuffle_data(inputs, targets_one_hot)\n",
    "\n",
    "# K-Fold Cross Validation 준비\n",
    "folds = train_instance.k_fold_split(inputs, targets_one_hot)\n",
    "\n",
    "# 학습 실행\n",
    "for i, (X_train, y_train, X_val, y_val) in enumerate(folds):\n",
    "    print(f\"Fold {i + 1}/{len(folds)}\")\n",
    "    train_instance.train(X_train, y_train, X_val, y_val)\n",
    "\n",
    "# 결과 저장 및 시각화\n",
    "train_instance.save_results(results_path=\"dropout01.csv\",weights_path=\"dropout01_weights.csv\")\n",
    "train_instance.plot_history()"
   ]
  },
  {
   "cell_type": "code",
   "execution_count": null,
   "metadata": {},
   "outputs": [],
   "source": [
    "import os\n",
    "import sys \n",
    "import numpy as np\n",
    "import pandas as pd\n",
    "import matplotlib.pyplot as plt\n",
    "\n",
    "# 현재 작업 중인 Notebook의 경로 가져오기\n",
    "notebook_dir = os.getcwd()\n",
    "sys.path.append(os.path.abspath(os.path.join(notebook_dir, \"../../../utils\")))\n",
    "sys.path.append(os.path.abspath(os.path.join(notebook_dir, \"../../../class\")))\n",
    "\n",
    "from data import preprocess_data\n",
    "from Train import Train\n",
    "\n",
    "# 데이터 섞는 함수\n",
    "def shuffle_data(inputs, targets):\n",
    "    indices = np.random.permutation(inputs.shape[0])  # 데이터 인덱스 섞기\n",
    "    return inputs[indices], targets[indices]\n",
    "\n",
    "# 실험 설정\n",
    "csv_path = \"../../../Data/font_data.csv\"\n",
    "\n",
    "train_instance = Train(\n",
    "    epoch=20,\n",
    "    batch=64,\n",
    "    activation=\"relu\",\n",
    "    output_activation=\"softmax\",\n",
    "    weight_init=\"xavier\",\n",
    "    optimizer=\"adam\",\n",
    "    dropout=0.1,\n",
    "    learning_rate=0.01,\n",
    ")\n",
    "\n",
    "# 데이터 로드\n",
    "inputs, targets_one_hot, targets = train_instance.load_data(csv_path)\n",
    "\n",
    "# 데이터 섞기\n",
    "inputs, targets_one_hot = shuffle_data(inputs, targets_one_hot)\n",
    "\n",
    "# K-Fold Cross Validation 준비\n",
    "folds = train_instance.k_fold_split(inputs, targets_one_hot)\n",
    "\n",
    "# 학습 실행\n",
    "for i, (X_train, y_train, X_val, y_val) in enumerate(folds):\n",
    "    print(f\"Fold {i + 1}/{len(folds)}\")\n",
    "    train_instance.train(X_train, y_train, X_val, y_val)\n",
    "\n",
    "# 결과 저장 및 시각화\n",
    "train_instance.save_results(results_path=\"dropout01_xavier.csv\",weights_path=\"dropout01_xavier_weights.csv\")\n",
    "train_instance.plot_history()"
   ]
  },
  {
   "cell_type": "code",
   "execution_count": null,
   "metadata": {},
   "outputs": [],
   "source": []
  },
  {
   "cell_type": "code",
   "execution_count": null,
   "metadata": {},
   "outputs": [],
   "source": []
  },
  {
   "cell_type": "code",
   "execution_count": null,
   "metadata": {},
   "outputs": [],
   "source": []
  },
  {
   "cell_type": "code",
   "execution_count": null,
   "metadata": {},
   "outputs": [],
   "source": []
  },
  {
   "cell_type": "code",
   "execution_count": null,
   "metadata": {},
   "outputs": [],
   "source": []
  },
  {
   "cell_type": "code",
   "execution_count": null,
   "metadata": {},
   "outputs": [],
   "source": []
  },
  {
   "cell_type": "code",
   "execution_count": null,
   "metadata": {},
   "outputs": [],
   "source": []
  },
  {
   "cell_type": "code",
   "execution_count": null,
   "metadata": {},
   "outputs": [],
   "source": []
  },
  {
   "cell_type": "code",
   "execution_count": null,
   "metadata": {},
   "outputs": [],
   "source": []
  },
  {
   "cell_type": "code",
   "execution_count": null,
   "metadata": {},
   "outputs": [],
   "source": []
  },
  {
   "cell_type": "code",
   "execution_count": null,
   "metadata": {},
   "outputs": [],
   "source": []
  },
  {
   "cell_type": "code",
   "execution_count": null,
   "metadata": {},
   "outputs": [],
   "source": []
  },
  {
   "cell_type": "code",
   "execution_count": null,
   "metadata": {},
   "outputs": [],
   "source": []
  },
  {
   "cell_type": "code",
   "execution_count": null,
   "metadata": {},
   "outputs": [],
   "source": []
  },
  {
   "cell_type": "code",
   "execution_count": null,
   "metadata": {},
   "outputs": [],
   "source": []
  },
  {
   "cell_type": "code",
   "execution_count": null,
   "metadata": {},
   "outputs": [],
   "source": []
  },
  {
   "cell_type": "code",
   "execution_count": null,
   "metadata": {},
   "outputs": [],
   "source": []
  },
  {
   "cell_type": "code",
   "execution_count": null,
   "metadata": {},
   "outputs": [],
   "source": []
  },
  {
   "cell_type": "code",
   "execution_count": null,
   "metadata": {},
   "outputs": [],
   "source": []
  },
  {
   "cell_type": "code",
   "execution_count": null,
   "metadata": {},
   "outputs": [],
   "source": []
  },
  {
   "cell_type": "code",
   "execution_count": null,
   "metadata": {},
   "outputs": [],
   "source": []
  },
  {
   "cell_type": "code",
   "execution_count": null,
   "metadata": {},
   "outputs": [],
   "source": []
  },
  {
   "cell_type": "code",
   "execution_count": null,
   "metadata": {},
   "outputs": [],
   "source": []
  },
  {
   "cell_type": "code",
   "execution_count": null,
   "metadata": {},
   "outputs": [],
   "source": []
  },
  {
   "cell_type": "code",
   "execution_count": null,
   "metadata": {},
   "outputs": [],
   "source": []
  },
  {
   "cell_type": "code",
   "execution_count": null,
   "metadata": {},
   "outputs": [],
   "source": []
  },
  {
   "cell_type": "code",
   "execution_count": null,
   "metadata": {},
   "outputs": [],
   "source": []
  },
  {
   "cell_type": "code",
   "execution_count": null,
   "metadata": {},
   "outputs": [],
   "source": []
  },
  {
   "cell_type": "code",
   "execution_count": null,
   "metadata": {},
   "outputs": [],
   "source": []
  },
  {
   "cell_type": "code",
   "execution_count": null,
   "metadata": {},
   "outputs": [],
   "source": []
  },
  {
   "cell_type": "code",
   "execution_count": null,
   "metadata": {},
   "outputs": [],
   "source": []
  },
  {
   "cell_type": "code",
   "execution_count": null,
   "metadata": {},
   "outputs": [],
   "source": []
  },
  {
   "cell_type": "code",
   "execution_count": null,
   "metadata": {},
   "outputs": [],
   "source": []
  },
  {
   "cell_type": "code",
   "execution_count": null,
   "metadata": {},
   "outputs": [],
   "source": []
  },
  {
   "cell_type": "code",
   "execution_count": null,
   "metadata": {},
   "outputs": [],
   "source": []
  },
  {
   "cell_type": "code",
   "execution_count": null,
   "metadata": {},
   "outputs": [],
   "source": []
  },
  {
   "cell_type": "code",
   "execution_count": null,
   "metadata": {},
   "outputs": [],
   "source": []
  },
  {
   "cell_type": "code",
   "execution_count": null,
   "metadata": {},
   "outputs": [],
   "source": []
  },
  {
   "cell_type": "code",
   "execution_count": null,
   "metadata": {},
   "outputs": [],
   "source": []
  },
  {
   "cell_type": "code",
   "execution_count": null,
   "metadata": {},
   "outputs": [],
   "source": []
  },
  {
   "cell_type": "code",
   "execution_count": null,
   "metadata": {},
   "outputs": [],
   "source": []
  },
  {
   "cell_type": "code",
   "execution_count": null,
   "metadata": {},
   "outputs": [],
   "source": []
  },
  {
   "cell_type": "code",
   "execution_count": null,
   "metadata": {},
   "outputs": [],
   "source": []
  },
  {
   "cell_type": "code",
   "execution_count": null,
   "metadata": {},
   "outputs": [],
   "source": []
  },
  {
   "cell_type": "code",
   "execution_count": null,
   "metadata": {},
   "outputs": [],
   "source": []
  },
  {
   "cell_type": "code",
   "execution_count": null,
   "metadata": {},
   "outputs": [],
   "source": []
  },
  {
   "cell_type": "code",
   "execution_count": null,
   "metadata": {},
   "outputs": [],
   "source": []
  },
  {
   "cell_type": "code",
   "execution_count": null,
   "metadata": {},
   "outputs": [],
   "source": []
  },
  {
   "cell_type": "code",
   "execution_count": null,
   "metadata": {},
   "outputs": [],
   "source": []
  },
  {
   "cell_type": "code",
   "execution_count": null,
   "metadata": {},
   "outputs": [],
   "source": []
  },
  {
   "cell_type": "code",
   "execution_count": null,
   "metadata": {},
   "outputs": [],
   "source": []
  },
  {
   "cell_type": "code",
   "execution_count": null,
   "metadata": {},
   "outputs": [],
   "source": []
  },
  {
   "cell_type": "code",
   "execution_count": null,
   "metadata": {},
   "outputs": [],
   "source": []
  },
  {
   "cell_type": "code",
   "execution_count": null,
   "metadata": {},
   "outputs": [],
   "source": []
  },
  {
   "cell_type": "code",
   "execution_count": null,
   "metadata": {},
   "outputs": [],
   "source": []
  },
  {
   "cell_type": "code",
   "execution_count": null,
   "metadata": {},
   "outputs": [],
   "source": []
  },
  {
   "cell_type": "code",
   "execution_count": null,
   "metadata": {},
   "outputs": [],
   "source": []
  },
  {
   "cell_type": "code",
   "execution_count": null,
   "metadata": {},
   "outputs": [],
   "source": []
  },
  {
   "cell_type": "code",
   "execution_count": null,
   "metadata": {},
   "outputs": [],
   "source": []
  },
  {
   "cell_type": "code",
   "execution_count": null,
   "metadata": {},
   "outputs": [],
   "source": []
  },
  {
   "cell_type": "code",
   "execution_count": null,
   "metadata": {},
   "outputs": [],
   "source": []
  },
  {
   "cell_type": "code",
   "execution_count": null,
   "metadata": {},
   "outputs": [],
   "source": []
  },
  {
   "cell_type": "code",
   "execution_count": null,
   "metadata": {},
   "outputs": [],
   "source": []
  },
  {
   "cell_type": "code",
   "execution_count": null,
   "metadata": {},
   "outputs": [],
   "source": []
  },
  {
   "cell_type": "code",
   "execution_count": null,
   "metadata": {},
   "outputs": [],
   "source": []
  },
  {
   "cell_type": "code",
   "execution_count": null,
   "metadata": {},
   "outputs": [],
   "source": []
  },
  {
   "cell_type": "code",
   "execution_count": null,
   "metadata": {},
   "outputs": [],
   "source": []
  },
  {
   "cell_type": "code",
   "execution_count": null,
   "metadata": {},
   "outputs": [],
   "source": []
  },
  {
   "cell_type": "code",
   "execution_count": null,
   "metadata": {},
   "outputs": [],
   "source": []
  },
  {
   "cell_type": "code",
   "execution_count": null,
   "metadata": {},
   "outputs": [],
   "source": []
  },
  {
   "cell_type": "code",
   "execution_count": null,
   "metadata": {},
   "outputs": [],
   "source": []
  },
  {
   "cell_type": "code",
   "execution_count": null,
   "metadata": {},
   "outputs": [],
   "source": []
  },
  {
   "cell_type": "code",
   "execution_count": null,
   "metadata": {},
   "outputs": [],
   "source": []
  },
  {
   "cell_type": "code",
   "execution_count": null,
   "metadata": {},
   "outputs": [],
   "source": []
  },
  {
   "cell_type": "code",
   "execution_count": null,
   "metadata": {},
   "outputs": [],
   "source": []
  },
  {
   "cell_type": "code",
   "execution_count": null,
   "metadata": {},
   "outputs": [],
   "source": []
  },
  {
   "cell_type": "code",
   "execution_count": null,
   "metadata": {},
   "outputs": [],
   "source": []
  },
  {
   "cell_type": "code",
   "execution_count": null,
   "metadata": {},
   "outputs": [],
   "source": []
  },
  {
   "cell_type": "code",
   "execution_count": null,
   "metadata": {},
   "outputs": [],
   "source": []
  },
  {
   "cell_type": "code",
   "execution_count": null,
   "metadata": {},
   "outputs": [],
   "source": []
  },
  {
   "cell_type": "code",
   "execution_count": null,
   "metadata": {},
   "outputs": [],
   "source": []
  },
  {
   "cell_type": "code",
   "execution_count": null,
   "metadata": {},
   "outputs": [],
   "source": []
  },
  {
   "cell_type": "code",
   "execution_count": null,
   "metadata": {},
   "outputs": [],
   "source": []
  },
  {
   "cell_type": "code",
   "execution_count": null,
   "metadata": {},
   "outputs": [],
   "source": []
  },
  {
   "cell_type": "code",
   "execution_count": null,
   "metadata": {},
   "outputs": [],
   "source": []
  },
  {
   "cell_type": "code",
   "execution_count": null,
   "metadata": {},
   "outputs": [],
   "source": []
  },
  {
   "cell_type": "code",
   "execution_count": null,
   "metadata": {},
   "outputs": [],
   "source": []
  },
  {
   "cell_type": "code",
   "execution_count": null,
   "metadata": {},
   "outputs": [],
   "source": []
  },
  {
   "cell_type": "code",
   "execution_count": null,
   "metadata": {},
   "outputs": [],
   "source": []
  },
  {
   "cell_type": "code",
   "execution_count": null,
   "metadata": {},
   "outputs": [],
   "source": []
  },
  {
   "cell_type": "code",
   "execution_count": null,
   "metadata": {},
   "outputs": [],
   "source": []
  },
  {
   "cell_type": "code",
   "execution_count": null,
   "metadata": {},
   "outputs": [],
   "source": []
  },
  {
   "cell_type": "code",
   "execution_count": null,
   "metadata": {},
   "outputs": [],
   "source": []
  },
  {
   "cell_type": "code",
   "execution_count": null,
   "metadata": {},
   "outputs": [],
   "source": []
  },
  {
   "cell_type": "code",
   "execution_count": null,
   "metadata": {},
   "outputs": [],
   "source": []
  },
  {
   "cell_type": "code",
   "execution_count": null,
   "metadata": {},
   "outputs": [],
   "source": []
  },
  {
   "cell_type": "code",
   "execution_count": null,
   "metadata": {},
   "outputs": [],
   "source": []
  },
  {
   "cell_type": "code",
   "execution_count": null,
   "metadata": {},
   "outputs": [],
   "source": []
  },
  {
   "cell_type": "code",
   "execution_count": null,
   "metadata": {},
   "outputs": [],
   "source": []
  },
  {
   "cell_type": "code",
   "execution_count": null,
   "metadata": {},
   "outputs": [],
   "source": []
  },
  {
   "cell_type": "code",
   "execution_count": null,
   "metadata": {},
   "outputs": [],
   "source": [
    "}ㅣ+:?ㅣ?}+}+ㅣ?+}+ㅣ}+}}}    "
   ]
  }
 ],
 "metadata": {
  "kernelspec": {
   "display_name": "Python 3",
   "language": "python",
   "name": "python3"
  },
  "language_info": {
   "codemirror_mode": {
    "name": "ipython",
    "version": 3
   },
   "file_extension": ".py",
   "mimetype": "text/x-python",
   "name": "python",
   "nbconvert_exporter": "python",
   "pygments_lexer": "ipython3",
   "version": "3.8.5"
  }
 },
 "nbformat": 4,
 "nbformat_minor": 2
}
