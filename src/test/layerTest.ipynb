{
 "cells": [
  {
   "cell_type": "markdown",
   "metadata": {},
   "source": [
    "## 역전파 테스트"
   ]
  },
  {
   "cell_type": "code",
   "execution_count": null,
   "metadata": {},
   "outputs": [],
   "source": [
    "import os\n",
    "import sys \n",
    "import numpy as np\n",
    "\n",
    "# 현재 작업 중인 Notebook의 경로 가져오기\n",
    "notebook_dir = os.getcwd()\n",
    "sys.path.append(os.path.abspath(os.path.join(notebook_dir, \"../class\")))\n",
    "\n",
    "from Layer import Layer\n",
    "\n",
    "isize=4\n",
    "hsize=3\n",
    "osize=2\n",
    "\n",
    "activation=\"leaky_relu\"\n",
    "\n",
    "idata=np.array([0.5, 0.3, 0.9, 0.1])\n",
    "\n",
    "ilayer=Layer(isize,activation,hsize)\n",
    "ilayer.setLayer(idata)\n",
    "ilayer.setWeight()\n",
    "\n",
    "hlayer=Layer(hsize,activation,osize)\n",
    "hlayer.setWeight()\n",
    "\n",
    "olayer=Layer(osize,\"none\")\n",
    "\n",
    "res_val, res_gradient = ilayer.forward()\n",
    "\n",
    "# 결과 값을 다음 레이어의 노드들에 할당\n",
    "for i in range(hlayer.layer_size):\n",
    "    hlayer.nodes[i].val = res_val[i]\n",
    "    hlayer.nodes[i].activation_gradient = res_gradient[i]\n",
    "\n",
    "print(res_val)\n",
    "print(res_gradient)\n",
    "\n",
    "res_val, res_gradient = hlayer.forward()\n",
    "\n",
    "for i in range(olayer.layer_size):\n",
    "    olayer.nodes[i].val = res_val[i]\n",
    "    olayer.nodes[i].activation_gradient = res_gradient[i]\n",
    "\n",
    "\n",
    "print(\"Forward Pass Output Values:\", olayer.nodes[1].val)\n",
    "print(\"Forward Pass Output Values:\", olayer.nodes[1].activation_gradient)\n",
    "\n",
    "olayer.get_gradient_output([1,0])\n",
    "next_layer=[node.val for node in olayer.nodes]\n",
    "print(\"next_layer val: \",next_layer)\n",
    "hlayer.get_gradient(next_layer)\n",
    "prev_layer=[node.val for node in ilayer.nodes]\n",
    "hlayer.update_weight(prev_layer)\n",
    "\n"
   ]
  },
  {
   "cell_type": "code",
   "execution_count": 3,
   "metadata": {},
   "outputs": [
    {
     "name": "stdout",
     "output_type": "stream",
     "text": [
      "[ 0.54132558 -0.01385863 -0.03151864]\n",
      "[1.   0.01 0.01]\n",
      "Forward Pass Output Values: -0.005703177900000001\n",
      "Forward Pass Output Values: 0.01\n",
      "next_layer val:  [-0.0031101970000000003, -0.005703177900000001]\n"
     ]
    }
   ],
   "source": [
    "\n",
    "res_val, res_gradient = ilayer.forward()\n",
    "\n",
    "# 결과 값을 다음 레이어의 노드들에 할당\n",
    "for i in range(hlayer.layer_size):\n",
    "    hlayer.nodes[i].val = res_val[i]\n",
    "    hlayer.nodes[i].activation_gradient = res_gradient[i]\n",
    "\n",
    "print(res_val)\n",
    "print(res_gradient)\n",
    "\n",
    "res_val, res_gradient = hlayer.forward()\n",
    "\n",
    "for i in range(olayer.layer_size):\n",
    "    olayer.nodes[i].val = res_val[i]\n",
    "    olayer.nodes[i].activation_gradient = res_gradient[i]\n",
    "\n",
    "\n",
    "print(\"Forward Pass Output Values:\", olayer.nodes[1].val)\n",
    "print(\"Forward Pass Output Values:\", olayer.nodes[1].activation_gradient)\n",
    "\n",
    "olayer.get_gradient_output([1,0])\n",
    "next_layer=[node.val for node in olayer.nodes]\n",
    "print(\"next_layer val: \",next_layer)\n",
    "hlayer.get_gradient(next_layer)\n",
    "prev_layer=[node.val for node in ilayer.nodes]\n",
    "hlayer.update_weight(prev_layer)\n"
   ]
  },
  {
   "cell_type": "code",
   "execution_count": null,
   "metadata": {},
   "outputs": [],
   "source": []
  }
 ],
 "metadata": {
  "kernelspec": {
   "display_name": "Python 3",
   "language": "python",
   "name": "python3"
  },
  "language_info": {
   "codemirror_mode": {
    "name": "ipython",
    "version": 3
   },
   "file_extension": ".py",
   "mimetype": "text/x-python",
   "name": "python",
   "nbconvert_exporter": "python",
   "pygments_lexer": "ipython3",
   "version": "3.8.5"
  }
 },
 "nbformat": 4,
 "nbformat_minor": 2
}
