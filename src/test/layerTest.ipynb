{
 "cells": [
  {
   "cell_type": "code",
   "execution_count": 4,
   "metadata": {},
   "outputs": [
    {
     "name": "stdout",
     "output_type": "stream",
     "text": [
      "weight:  [-0.79116942 -0.29735791]\n",
      "weight:  [1.00699611 0.28207052]\n",
      "weight:  [ 0.47150651 -0.31571662]\n",
      "multi :  [ 0.33086998 -0.34820275]\n",
      "Forward Pass Output Values: [array([ 0.33086998, -0.00348203])]\n",
      "Forward Pass Gradients: [array([1.  , 0.01])]\n"
     ]
    }
   ],
   "source": [
    "import os\n",
    "import sys \n",
    "import numpy as np\n",
    "\n",
    "# 현재 작업 중인 Notebook의 경로 가져오기\n",
    "notebook_dir = os.getcwd()\n",
    "sys.path.append(os.path.abspath(os.path.join(notebook_dir, \"../class\")))\n",
    "\n",
    "from Layer import Layer\n",
    "\n",
    "isize=3\n",
    "lsize=2\n",
    "activation=\"leaky_relu\"\n",
    "\n",
    "idata=np.array([0.5, 0.3, 0.9])\n",
    "\n",
    "ilayer=Layer(isize,activation)\n",
    "ilayer.setLayer(idata)\n",
    "ilayer.setWeight()\n",
    "\n",
    "\n",
    "output_val, output_gradient = ilayer.forward()\n",
    "\n",
    "print(\"Forward Pass Output Values:\", output_val)\n",
    "print(\"Forward Pass Gradients:\", output_gradient)\n"
   ]
  },
  {
   "cell_type": "markdown",
   "metadata": {},
   "source": []
  },
  {
   "cell_type": "code",
   "execution_count": null,
   "metadata": {},
   "outputs": [],
   "source": []
  }
 ],
 "metadata": {
  "kernelspec": {
   "display_name": "Python 3",
   "language": "python",
   "name": "python3"
  },
  "language_info": {
   "codemirror_mode": {
    "name": "ipython",
    "version": 3
   },
   "file_extension": ".py",
   "mimetype": "text/x-python",
   "name": "python",
   "nbconvert_exporter": "python",
   "pygments_lexer": "ipython3",
   "version": "3.8.5"
  }
 },
 "nbformat": 4,
 "nbformat_minor": 2
}
