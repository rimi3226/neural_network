{
 "cells": [
  {
   "cell_type": "markdown",
   "metadata": {},
   "source": [
    "## 역전파 테스트"
   ]
  },
  {
   "cell_type": "code",
   "execution_count": 1,
   "metadata": {},
   "outputs": [
    {
     "ename": "SyntaxError",
     "evalue": "unexpected EOF while parsing (Layer.py, line 94)",
     "output_type": "error",
     "traceback": [
      "Traceback \u001b[0;36m(most recent call last)\u001b[0m:\n",
      "\u001b[0m  File \u001b[1;32m~/Library/Python/3.8/lib/python/site-packages/IPython/core/interactiveshell.py:3508\u001b[0m in \u001b[1;35mrun_code\u001b[0m\n    exec(code_obj, self.user_global_ns, self.user_ns)\u001b[0m\n",
      "\u001b[0;36m  Cell \u001b[0;32mIn[1], line 9\u001b[0;36m\n\u001b[0;31m    from Layer import Layer\u001b[0;36m\n",
      "\u001b[0;36m  File \u001b[0;32m~/Documents/GitHub/neural_network/src/class/Layer.py:94\u001b[0;36m\u001b[0m\n\u001b[0;31m    \u001b[0m\n\u001b[0m    ^\u001b[0m\n\u001b[0;31mSyntaxError\u001b[0m\u001b[0;31m:\u001b[0m unexpected EOF while parsing\n"
     ]
    }
   ],
   "source": [
    "import os\n",
    "import sys \n",
    "import numpy as np\n",
    "\n",
    "# 현재 작업 중인 Notebook의 경로 가져오기\n",
    "notebook_dir = os.getcwd()\n",
    "sys.path.append(os.path.abspath(os.path.join(notebook_dir, \"../class\")))\n",
    "\n",
    "from Layer import Layer\n",
    "\n",
    "isize=4\n",
    "hsize=3\n",
    "osize=2\n",
    "\n",
    "activation=\"leaky_relu\"\n",
    "\n",
    "idata=np.array([0.5, 0.3, 0.9, 0.1])\n",
    "\n",
    "ilayer=Layer(isize,activation,hsize)\n",
    "ilayer.setLayer(idata)\n",
    "ilayer.setWeight()\n",
    "\n",
    "hlayer=Layer(hsize,activation,osize)\n",
    "hlayer.setWeight()\n",
    "\n",
    "olayer=Layer(osize,\"none\")\n",
    "\n",
    "res_val, res_gradient = ilayer.forward()\n",
    "\n",
    "# 결과 값을 다음 레이어의 노드들에 할당\n",
    "for i in range(hlayer.layer_size):\n",
    "    hlayer.nodes[i].val = res_val[i]\n",
    "    hlayer.nodes[i].activation_gradient = res_gradient[i]\n",
    "\n",
    "print(res_val)\n",
    "print(res_gradient)\n",
    "\n",
    "res_val, res_gradient = hlayer.forward()\n",
    "\n",
    "for i in range(olayer.layer_size):\n",
    "    olayer.nodes[i].val = res_val[i]\n",
    "    olayer.nodes[i].activation_gradient = res_gradient[i]\n",
    "\n",
    "\n",
    "print(\"Forward Pass Output Values:\", olayer.nodes[1].val)\n",
    "print(\"Forward Pass Output Values:\", olayer.nodes[1].activation_gradient)\n",
    "\n",
    "olayer.get_gradient_output([1,0])\n",
    "next_layer=[node.val for node in olayer.nodes]\n",
    "print(\"next_layer val: \",next_layer)\n",
    "hlayer.get_gradient(next_layer)\n",
    "prev_layer=[node.val for node in ilayer.nodes]\n",
    "hlayer.update_weight(prev_layer)\n",
    "\n"
   ]
  },
  {
   "cell_type": "code",
   "execution_count": null,
   "metadata": {},
   "outputs": [
    {
     "name": "stdout",
     "output_type": "stream",
     "text": [
      "[ 0.64398369 -0.01035892  0.92094877]\n",
      "[1.   0.01 1.  ]\n",
      "Forward Pass Output Values: -0.0108124534\n",
      "Forward Pass Output Values: 0.01\n",
      "next_layer val:  [-0.0046904335000000005, -0.0108124534]\n",
      "------------------------------------\n",
      "-1.0340738200262618\n",
      "* result :  -0.00011074225494305\n",
      "* :  -0.002214845098861   0.5\n",
      "-1.0339630777713187\n",
      "------------------------------------\n",
      "------------------------------------\n",
      "0.6534224310076374\n",
      "* result :  -6.644535296583e-05\n",
      "* :  -0.002214845098861   0.3\n",
      "0.6534888763606033\n",
      "------------------------------------\n",
      "------------------------------------\n",
      "0.2011625152957758\n",
      "* result :  5.6631569837000005e-06\n",
      "* :  0.000113263139674   0.5\n",
      "0.2011568521387921\n",
      "------------------------------------\n",
      "------------------------------------\n",
      "-1.1347890172750712\n",
      "* result :  3.3978941902200003e-06\n",
      "* :  0.000113263139674   0.3\n",
      "-1.1347924151692614\n",
      "------------------------------------\n",
      "------------------------------------\n",
      "0.2160458409067228\n",
      "* result :  0.0008379719082896001\n",
      "* :  0.016759438165792   0.5\n",
      "0.2152078689984332\n",
      "------------------------------------\n",
      "------------------------------------\n",
      "-1.643733032460181\n",
      "* result :  0.00050278314497376\n",
      "* :  0.016759438165792   0.3\n",
      "-1.6442358156051549\n",
      "------------------------------------\n",
      "[-1.03396308  0.65348888]\n",
      "[ 0.20115685 -1.13479242]\n",
      "[ 0.21520787 -1.64423582]\n"
     ]
    }
   ],
   "source": [
    "\n",
    "res_val, res_gradient = ilayer.forward()\n",
    "\n",
    "# 결과 값을 다음 레이어의 노드들에 할당\n",
    "for i in range(hlayer.layer_size):\n",
    "    hlayer.nodes[i].val = res_val[i]\n",
    "    hlayer.nodes[i].activation_gradient = res_gradient[i]\n",
    "\n",
    "print(res_val)\n",
    "print(res_gradient)\n",
    "\n",
    "res_val, res_gradient = hlayer.forward()\n",
    "\n",
    "for i in range(olayer.layer_size):\n",
    "    olayer.nodes[i].val = res_val[i]\n",
    "    olayer.nodes[i].activation_gradient = res_gradient[i]\n",
    "\n",
    "\n",
    "print(\"Forward Pass Output Values:\", olayer.nodes[1].val)\n",
    "print(\"Forward Pass Output Values:\", olayer.nodes[1].activation_gradient)\n",
    "\n",
    "olayer.get_gradient_output([1,0])\n",
    "next_layer=[node.val for node in olayer.nodes]\n",
    "print(\"next_layer val: \",next_layer)\n",
    "hlayer.get_gradient(next_layer)\n",
    "prev_layer=[node.val for node in ilayer.nodes]\n",
    "hlayer.update_weight(prev_layer)\n"
   ]
  },
  {
   "cell_type": "code",
   "execution_count": null,
   "metadata": {},
   "outputs": [],
   "source": []
  }
 ],
 "metadata": {
  "kernelspec": {
   "display_name": "Python 3",
   "language": "python",
   "name": "python3"
  },
  "language_info": {
   "codemirror_mode": {
    "name": "ipython",
    "version": 3
   },
   "file_extension": ".py",
   "mimetype": "text/x-python",
   "name": "python",
   "nbconvert_exporter": "python",
   "pygments_lexer": "ipython3",
   "version": "3.8.5"
  }
 },
 "nbformat": 4,
 "nbformat_minor": 2
}
