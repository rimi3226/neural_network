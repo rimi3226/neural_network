{
 "cells": [
  {
   "cell_type": "markdown",
   "metadata": {},
   "source": [
    "# 폰트 이미지 처리\n"
   ]
  },
  {
   "cell_type": "code",
   "execution_count": 27,
   "metadata": {},
   "outputs": [
    {
     "name": "stdout",
     "output_type": "stream",
     "text": [
      "['NanumPen.ttf', 'NanumMyeongjo.ttf', 'NanumSquareR.ttf']\n"
     ]
    }
   ],
   "source": [
    "import sys, os\n",
    "import numpy as np\n",
    "import matplotlib.pyplot as plt\n",
    "from PIL import Image, ImageDraw, ImageFont\n",
    "from tqdm import tqdm\n",
    "\n",
    "font_path = \"/Users/hyorimlee/Documents/GitHub/neural_network/Fonts/\"\n",
    "fonts = os.listdir(\"/Users/hyorimlee/Documents/GitHub/neural_network/Fonts/\")\n",
    "\n",
    "\n",
    "while len(fonts) > 3:\n",
    "    fonts.pop() \n",
    "    \n",
    "    \n",
    "print(fonts)\n"
   ]
  },
  {
   "cell_type": "code",
   "execution_count": 28,
   "metadata": {},
   "outputs": [],
   "source": [
    "co = \"0 1 2 3 4 5 6 7 8 9 A B C D E F\"\n",
    "start = \"AC00\"\n",
    "end = \"D7A3\"\n",
    "\n",
    "co = co.split(\" \")\n",
    "\n",
    "Hangul_Syllables = [a+b+c+d \n",
    "                    for a in co \n",
    "                    for b in co \n",
    "                    for c in co \n",
    "                    for d in co]\n",
    "\n",
    "Hangul_Syllables = np.array(Hangul_Syllables)\n",
    "\n",
    "s = np.where(start == Hangul_Syllables)[0][0]\n",
    "e = np.where(end == Hangul_Syllables)[0][0]\n",
    "\n",
    "Hangul_Syllables = Hangul_Syllables[s : e + 1]\n"
   ]
  },
  {
   "cell_type": "code",
   "execution_count": null,
   "metadata": {},
   "outputs": [],
   "source": [
    "unicodeChars = chr(int(Hangul_Syllables[0], 16))\n",
    "plt.figure(figsize=(15, 15))\n",
    "\n",
    "for idx, ttf in enumerate(fonts):\n",
    "    print(font_path)\n",
    "    print(ttf)\n",
    "    font = ImageFont.truetype(font = font_path + ttf, size = 100)\n",
    "    \n",
    "    x, y = font.getsize(unicodeChars)\n",
    "\n",
    "    theImage = Image.new('RGB', (x + 3, y + 3), color='white')\n",
    "\n",
    "    theDrawPad = ImageDraw.Draw(theImage)\n",
    "\n",
    "    theDrawPad.text((0, 0), unicodeChars[0], font=font, fill='black')\n",
    "\n",
    "    plt.subplot(\"24{}\".format(str(idx + 1)))\n",
    "    \n",
    "    plt.title(str(ttf))\n",
    "    \n",
    "    plt.imshow(theImage)\n",
    "    \n",
    "plt.show()\n"
   ]
  },
  {
   "cell_type": "code",
   "execution_count": null,
   "metadata": {},
   "outputs": [
    {
     "name": "stdout",
     "output_type": "stream",
     "text": [
      "/Users/hyorimlee/Documents/GitHub/neural_network/Fonts/\n",
      "NanumPen.ttf\n",
      "/Users/hyorimlee/Documents/GitHub/neural_network/Fonts/\n",
      "NanumMyeongjo.ttf\n",
      "/Users/hyorimlee/Documents/GitHub/neural_network/Fonts/\n",
      "NanumSquareR.ttf\n"
     ]
    },
    {
     "data": {
      "image/png": "[encoded data removed]",
      "text/plain": [
       "<Figure size 1500x1500 with 3 Axes>"
      ]
     },
     "metadata": {},
     "output_type": "display_data"
    }
   ],
   "source": [
    "import sys, os\n",
    "import numpy as np\n",
    "import matplotlib.pyplot as plt\n",
    "from PIL import Image, ImageDraw, ImageFont\n",
    "from tqdm import tqdm\n",
    "\n",
    "# 폰트 파일 경로 및 읽기\n",
    "font_path = \"/Users/hyorimlee/Documents/GitHub/neural_network/Fonts/\"\n",
    "fonts = os.listdir(font_path)\n",
    "\n",
    "# 테스트를 위해 최대 3개의 폰트만 사용\n",
    "font=fonts[0]\n",
    "\n",
    "# 한글 유니코드 범위 생성\n",
    "co = \"0 1 2 3 4 5 6 7 8 9 A B C D E F\"\n",
    "start = \"AC00\"\n",
    "end = \"D7A3\"\n",
    "\n",
    "co = co.split(\" \")\n",
    "\n",
    "Hangul_Syllables = [a + b + c + d for a in co for b in co for c in co for d in co]\n",
    "Hangul_Syllables = np.array(Hangul_Syllables)\n",
    "\n",
    "# 시작 및 종료 범위 설정\n",
    "s = np.where(Hangul_Syllables == start)[0][0]\n",
    "e = np.where(Hangul_Syllables == end)[0][0]\n",
    "\n",
    "Hangul_Syllables = Hangul_Syllables[s: e + 1]\n",
    "\n",
    "# 첫 번째 문자 선택\n",
    "unicode_char = chr(int(Hangul_Syllables[0], 16))\n",
    "\n",
    "# 시각화\n",
    "plt.figure(figsize=(15, 15))\n",
    "\n",
    "for idx, ttf in enumerate(fonts):\n",
    "    print(font_path)\n",
    "    print(ttf)\n",
    "    \n",
    "    # 폰트 로드\n",
    "    font = ImageFont.truetype(font=font_path + ttf, size=100)\n",
    "    \n",
    "    # getbbox로 텍스트 크기 계산\n",
    "    bbox = font.getbbox(unicode_char)\n",
    "    width, height = bbox[2] - bbox[0], bbox[3] - bbox[1]\n",
    "\n",
    "    # 이미지 생성\n",
    "    the_image = Image.new('RGB', (width + 10, height + 10), color='white')\n",
    "    draw_pad = ImageDraw.Draw(the_image)\n",
    "\n",
    "    # 텍스트 그리기\n",
    "    draw_pad.text((5, 5), unicode_char, font=font, fill='black')\n",
    "\n",
    "    # 서브플롯에 표시\n",
    "    plt.subplot(1, len(fonts), idx + 1)\n",
    "    plt.title(str(ttf))\n",
    "    plt.imshow(the_image)\n",
    "    plt.axis('off')\n",
    "\n",
    "plt.tight_layout()\n",
    "plt.show()\n"
   ]
  },
  {
   "cell_type": "markdown",
   "metadata": {},
   "source": [
    "# '가' 글씨 변환 성공 코드"
   ]
  },
  {
   "cell_type": "code",
   "execution_count": 32,
   "metadata": {},
   "outputs": [
    {
     "name": "stdout",
     "output_type": "stream",
     "text": [
      "Images saved to /Users/hyorimlee/Documents/GitHub/neural_network/Image/\n"
     ]
    }
   ],
   "source": [
    "import os\n",
    "import numpy as np\n",
    "from PIL import Image, ImageDraw, ImageFont\n",
    "\n",
    "# 폰트 파일 경로 및 읽기\n",
    "font_path = \"/Users/hyorimlee/Documents/GitHub/neural_network/Fonts/\"\n",
    "fonts = os.listdir(font_path)\n",
    "\n",
    "# 저장 경로 설정\n",
    "output_path = \"/Users/hyorimlee/Documents/GitHub/neural_network/Image/\"\n",
    "os.makedirs(output_path, exist_ok=True)\n",
    "\n",
    "# 한글 유니코드 범위 생성\n",
    "co = \"0 1 2 3 4 5 6 7 8 9 A B C D E F\"\n",
    "start = \"AC00\"\n",
    "end = \"D7A3\"\n",
    "\n",
    "co = co.split(\" \")\n",
    "\n",
    "Hangul_Syllables = [a + b + c + d for a in co for b in co for c in co for d in co]\n",
    "Hangul_Syllables = np.array(Hangul_Syllables)\n",
    "\n",
    "# 시작 및 종료 범위 설정\n",
    "s = np.where(Hangul_Syllables == start)[0][0]\n",
    "e = np.where(Hangul_Syllables == end)[0][0]\n",
    "\n",
    "Hangul_Syllables = Hangul_Syllables[s: e + 1]\n",
    "\n",
    "# 저장할 이미지 크기\n",
    "image_size = (64, 64)\n",
    "\n",
    "# 폴더 생성 및 데이터 저장\n",
    "for ttf in fonts:\n",
    "    font_folder = os.path.join(output_path, os.path.splitext(ttf)[0])\n",
    "    os.makedirs(font_folder, exist_ok=True)\n",
    "    \n",
    "    # 폰트 로드\n",
    "    font = ImageFont.truetype(font=font_path + ttf, size=48)  # 크기를 약간 작게 설정\n",
    "    \n",
    "    for idx, unicode_value in enumerate(Hangul_Syllables):\n",
    "        unicode_char = chr(int(unicode_value, 16))\n",
    "        \n",
    "        # 64x64 크기 이미지 생성\n",
    "        the_image = Image.new('L', image_size, color='white')  # 흰 배경, 회색조 이미지\n",
    "        draw_pad = ImageDraw.Draw(the_image)\n",
    "        \n",
    "        # 텍스트 크기 계산 및 중앙 배치\n",
    "        bbox = font.getbbox(unicode_char)\n",
    "        text_width = bbox[2] - bbox[0]\n",
    "        text_height = bbox[3] - bbox[1]\n",
    "        x_offset = (image_size[0] - text_width) // 2\n",
    "        y_offset = (image_size[1] - text_height) // 2\n",
    "        \n",
    "        # 텍스트 그리기\n",
    "        draw_pad.text((x_offset, y_offset), unicode_char, font=font, fill='black')\n",
    "        \n",
    "        # 파일 저장\n",
    "        file_name = f\"{unicode_value}.png\"\n",
    "        file_path = os.path.join(font_folder, file_name)\n",
    "        the_image.save(file_path, format=\"PNG\")\n",
    "        \n",
    "        # 제한된 샘플만 테스트\n",
    "        if idx >= 10:  # 10개 샘플만 저장 (테스트용)\n",
    "            break\n",
    "\n",
    "print(f\"Images saved to {output_path}\")\n"
   ]
  },
  {
   "cell_type": "markdown",
   "metadata": {},
   "source": [
    "# 폰트 이미지로 변경 성공 코드"
   ]
  },
  {
   "cell_type": "code",
   "execution_count": 2,
   "metadata": {},
   "outputs": [
    {
     "name": "stdout",
     "output_type": "stream",
     "text": [
      "Bitmap images saved in /Users/hyorimlee/Documents/GitHub/neural_network/Image/\n"
     ]
    }
   ],
   "source": [
    "import os\n",
    "from PIL import Image, ImageDraw, ImageFont\n",
    "\n",
    "# 설정\n",
    "font_path = \"/Users/hyorimlee/Documents/GitHub/neural_network/Fonts/\"\n",
    "fonts = [f for f in os.listdir(font_path) if not f.startswith(\".\")]  # 숨김 파일 제외\n",
    "output_path = \"/Users/hyorimlee/Documents/GitHub/neural_network/Image/\"\n",
    "os.makedirs(output_path, exist_ok=True)\n",
    "\n",
    "# 데이터셋 파일 읽기\n",
    "dataset_file = \"/Users/hyorimlee/Documents/GitHub/neural_network/dataset.txt\"\n",
    "with open(dataset_file, \"r\", encoding=\"utf-8\") as file:\n",
    "    characters = file.read().replace(\"\\n\", \"\").replace(\" \", \"\")  # 공백 및 줄바꿈 제거\n",
    "\n",
    "# 이미지 크기 설정\n",
    "image_size = (64, 64)\n",
    "\n",
    "# 모든 폰트를 순회하며 처리\n",
    "for ttf in fonts:\n",
    "    font_folder = os.path.join(output_path, os.path.splitext(ttf)[0])\n",
    "    os.makedirs(font_folder, exist_ok=True)\n",
    "    \n",
    "    # 폰트 로드\n",
    "    font = ImageFont.truetype(font=font_path + ttf, size=48)  # 적절한 크기로 설정\n",
    "    \n",
    "    for char in characters:\n",
    "        # 비트맵 이미지 생성 (1비트 모드)\n",
    "        the_image = Image.new('1', image_size, color=1)  # 흰 배경 (1은 흰색)\n",
    "        draw_pad = ImageDraw.Draw(the_image)\n",
    "        \n",
    "        # 텍스트 크기 계산 및 중앙 배치\n",
    "        bbox = font.getbbox(char)\n",
    "        text_width = bbox[2] - bbox[0]\n",
    "        text_height = bbox[3] - bbox[1]\n",
    "        x_offset = (image_size[0] - text_width) // 2\n",
    "        y_offset = (image_size[1] - text_height) // 2\n",
    "        \n",
    "        # 텍스트 그리기\n",
    "        draw_pad.text((x_offset, y_offset), char, font=font, fill=0)  # 검정 텍스트 (0은 검정색)\n",
    "        \n",
    "        # 파일 저장\n",
    "        file_name = f\"{ord(char):04X}.bmp\"  # 유니코드 값을 16진수로 변환해 파일 이름 설정\n",
    "        file_path = os.path.join(font_folder, file_name)\n",
    "        the_image.save(file_path, format=\"BMP\")\n",
    "\n",
    "print(f\"Bitmap images saved in {output_path}\")\n"
   ]
  },
  {
   "cell_type": "markdown",
   "metadata": {},
   "source": [
    "# 폰트 폴더마다 제대로 이미지 들어갔는지 개수 확인하는 코드\n",
    "### 총 154글자 들어가야함"
   ]
  },
  {
   "cell_type": "code",
   "execution_count": 4,
   "metadata": {},
   "outputs": [
    {
     "name": "stdout",
     "output_type": "stream",
     "text": [
      "Folder 'MaruBuri-Bold' contains 154 file(s).\n"
     ]
    }
   ],
   "source": [
    "import os\n",
    "\n",
    "# 폴더 경로 설정\n",
    "folder_path = \"/Users/hyorimlee/Documents/GitHub/neural_network/Image/MaruBuri-Bold\"\n",
    "\n",
    "# 파일 개수 세기\n",
    "for subdir, dirs, files in os.walk(folder_path):\n",
    "    folder_name = os.path.basename(subdir)  # 현재 폴더 이름\n",
    "    file_count = len(files)  # 현재 폴더 내 파일 개수\n",
    "    print(f\"Folder '{folder_name}' contains {file_count} file(s).\")\n"
   ]
  },
  {
   "cell_type": "markdown",
   "metadata": {},
   "source": [
    "# 64*64 bmp 파일로 만드는 코드"
   ]
  },
  {
   "cell_type": "code",
   "execution_count": 5,
   "metadata": {},
   "outputs": [
    {
     "name": "stdout",
     "output_type": "stream",
     "text": [
      "Bitmap images saved in /Users/hyorimlee/Documents/GitHub/neural_network/Image/\n"
     ]
    }
   ],
   "source": [
    "import os\n",
    "from PIL import Image, ImageDraw, ImageFont\n",
    "\n",
    "# 설정\n",
    "font_path = \"/Users/hyorimlee/Documents/GitHub/neural_network/Fonts/\"\n",
    "fonts = [f for f in os.listdir(font_path) if not f.startswith(\".\")]  # 숨김 파일 제외\n",
    "output_path = \"/Users/hyorimlee/Documents/GitHub/neural_network/Image/\"\n",
    "os.makedirs(output_path, exist_ok=True)\n",
    "\n",
    "# 데이터셋 파일 읽기\n",
    "dataset_file = \"/Users/hyorimlee/Documents/GitHub/neural_network/dataset.txt\"\n",
    "with open(dataset_file, \"r\", encoding=\"utf-8\") as file:\n",
    "    characters = file.read().replace(\"\\n\", \"\").replace(\" \", \"\")  # 공백 및 줄바꿈 제거\n",
    "\n",
    "# 이미지 크기 설정\n",
    "image_size = (64, 64)\n",
    "\n",
    "# 모든 폰트를 순회하며 처리\n",
    "for ttf in fonts:\n",
    "    font_folder = os.path.join(output_path, os.path.splitext(ttf)[0])\n",
    "    os.makedirs(font_folder, exist_ok=True)\n",
    "    \n",
    "    # 폰트 로드\n",
    "    font = ImageFont.truetype(font=font_path + ttf, size=48)  # 적절한 크기로 설정\n",
    "    \n",
    "    for char in characters:\n",
    "        # 비트맵 이미지 생성 (1비트 모드)\n",
    "        the_image = Image.new('1', image_size, color=1)  # 흰 배경 (1은 흰색)\n",
    "        draw_pad = ImageDraw.Draw(the_image)\n",
    "        \n",
    "        # 텍스트 크기 계산 및 중앙 배치\n",
    "        bbox = font.getbbox(char)\n",
    "        text_width = bbox[2] - bbox[0]\n",
    "        text_height = bbox[3] - bbox[1]\n",
    "        x_offset = max((image_size[0] - text_width) // 2, 0)\n",
    "        y_offset = max((image_size[1] - text_height) // 2, 0)\n",
    "        \n",
    "        # 텍스트 그리기\n",
    "        draw_pad.text((x_offset, y_offset), char, font=font, fill=0)  # 검정 텍스트 (0은 검정색)\n",
    "        \n",
    "        # 파일 저장\n",
    "        file_name = f\"{ord(char):04X}.bmp\"  # 유니코드 값을 16진수로 변환해 파일 이름 설정\n",
    "        file_path = os.path.join(font_folder, file_name)\n",
    "        the_image.save(file_path, format=\"BMP\")\n",
    "\n",
    "print(f\"Bitmap images saved in {output_path}\")\n"
   ]
  },
  {
   "cell_type": "code",
   "execution_count": null,
   "metadata": {},
   "outputs": [],
   "source": []
  }
 ],
 "metadata": {
  "kernelspec": {
   "display_name": "Python 3",
   "language": "python",
   "name": "python3"
  },
  "language_info": {
   "codemirror_mode": {
    "name": "ipython",
    "version": 3
   },
   "file_extension": ".py",
   "mimetype": "text/x-python",
   "name": "python",
   "nbconvert_exporter": "python",
   "pygments_lexer": "ipython3",
   "version": "3.8.5"
  }
 },
 "nbformat": 4,
 "nbformat_minor": 2
}
