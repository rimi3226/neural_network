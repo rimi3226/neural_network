{
 "cells": [
  {
   "cell_type": "markdown",
   "metadata": {},
   "source": [
    "# 폰트 이미지 처리\n"
   ]
  },
  {
   "cell_type": "code",
   "execution_count": 2,
   "metadata": {},
   "outputs": [
    {
     "name": "stdout",
     "output_type": "stream",
     "text": [
      "['hy궁서-yoond1004.ttf', 'hy엽서m-yoond1004.ttf', 'H2HDRM.TTF', '.DS_Store', 'HANBatang.ttf', 'Hancom Gothic Regular.ttf', 'HanSantteutDotum-Regular.ttf', 'H2GTRE.TTF', 'HANDotum.ttf', 'hy얕은샘물m-yoond1004.ttf', 'malgun.ttf']\n"
     ]
    }
   ],
   "source": [
    "import sys, os\n",
    "import numpy as np\n",
    "import matplotlib.pyplot as plt\n",
    "from PIL import Image, ImageDraw, ImageFont\n",
    "from tqdm import tqdm\n",
    "\n",
    "font_path = \"/Users/hyorimlee/Documents/GitHub/neural_network/Fonts/\"\n",
    "fonts = os.listdir(\"/Users/hyorimlee/Documents/GitHub/neural_network/Fonts/\")\n",
    "\n",
    "    \n",
    "print(fonts)\n"
   ]
  },
  {
   "cell_type": "code",
   "execution_count": 3,
   "metadata": {},
   "outputs": [],
   "source": [
    "co = \"0 1 2 3 4 5 6 7 8 9 A B C D E F\"\n",
    "start = \"AC00\"\n",
    "end = \"D7A3\"\n",
    "\n",
    "co = co.split(\" \")\n",
    "\n",
    "Hangul_Syllables = [a+b+c+d \n",
    "                    for a in co \n",
    "                    for b in co \n",
    "                    for c in co \n",
    "                    for d in co]\n",
    "\n",
    "Hangul_Syllables = np.array(Hangul_Syllables)\n",
    "\n",
    "s = np.where(start == Hangul_Syllables)[0][0]\n",
    "e = np.where(end == Hangul_Syllables)[0][0]\n",
    "\n",
    "Hangul_Syllables = Hangul_Syllables[s : e + 1]\n"
   ]
  },
  {
   "cell_type": "code",
   "execution_count": 4,
   "metadata": {},
   "outputs": [
    {
     "name": "stdout",
     "output_type": "stream",
     "text": [
      "/Users/hyorimlee/Documents/GitHub/neural_network/Fonts/\n",
      "hy궁서-yoond1004.ttf\n"
     ]
    },
    {
     "ename": "AttributeError",
     "evalue": "'FreeTypeFont' object has no attribute 'getsize'",
     "output_type": "error",
     "traceback": [
      "\u001b[0;31m---------------------------------------------------------------------------\u001b[0m",
      "\u001b[0;31mAttributeError\u001b[0m                            Traceback (most recent call last)",
      "Cell \u001b[0;32mIn[4], line 9\u001b[0m\n\u001b[1;32m      6\u001b[0m \u001b[38;5;28mprint\u001b[39m(ttf)\n\u001b[1;32m      7\u001b[0m font \u001b[38;5;241m=\u001b[39m ImageFont\u001b[38;5;241m.\u001b[39mtruetype(font \u001b[38;5;241m=\u001b[39m font_path \u001b[38;5;241m+\u001b[39m ttf, size \u001b[38;5;241m=\u001b[39m \u001b[38;5;241m100\u001b[39m)\n\u001b[0;32m----> 9\u001b[0m x, y \u001b[38;5;241m=\u001b[39m \u001b[43mfont\u001b[49m\u001b[38;5;241;43m.\u001b[39;49m\u001b[43mgetsize\u001b[49m(unicodeChars)\n\u001b[1;32m     11\u001b[0m theImage \u001b[38;5;241m=\u001b[39m Image\u001b[38;5;241m.\u001b[39mnew(\u001b[38;5;124m'\u001b[39m\u001b[38;5;124mRGB\u001b[39m\u001b[38;5;124m'\u001b[39m, (x \u001b[38;5;241m+\u001b[39m \u001b[38;5;241m3\u001b[39m, y \u001b[38;5;241m+\u001b[39m \u001b[38;5;241m3\u001b[39m), color\u001b[38;5;241m=\u001b[39m\u001b[38;5;124m'\u001b[39m\u001b[38;5;124mwhite\u001b[39m\u001b[38;5;124m'\u001b[39m)\n\u001b[1;32m     13\u001b[0m theDrawPad \u001b[38;5;241m=\u001b[39m ImageDraw\u001b[38;5;241m.\u001b[39mDraw(theImage)\n",
      "\u001b[0;31mAttributeError\u001b[0m: 'FreeTypeFont' object has no attribute 'getsize'"
     ]
    },
    {
     "data": {
      "text/plain": [
       "<Figure size 1500x1500 with 0 Axes>"
      ]
     },
     "metadata": {},
     "output_type": "display_data"
    }
   ],
   "source": [
    "unicodeChars = chr(int(Hangul_Syllables[0], 16))\n",
    "plt.figure(figsize=(15, 15))\n",
    "\n",
    "for idx, ttf in enumerate(fonts):\n",
    "    print(font_path)\n",
    "    print(ttf)\n",
    "    font = ImageFont.truetype(font = font_path + ttf, size = 100)\n",
    "    \n",
    "    x, y = font.getsize(unicodeChars)\n",
    "\n",
    "    theImage = Image.new('RGB', (x + 3, y + 3), color='white')\n",
    "\n",
    "    theDrawPad = ImageDraw.Draw(theImage)\n",
    "\n",
    "    theDrawPad.text((0, 0), unicodeChars[0], font=font, fill='black')\n",
    "\n",
    "    plt.subplot(\"24{}\".format(str(idx + 1)))\n",
    "    \n",
    "    plt.title(str(ttf))\n",
    "    \n",
    "    plt.imshow(theImage)\n",
    "    \n",
    "plt.show()\n"
   ]
  },
  {
   "cell_type": "code",
   "execution_count": 5,
   "metadata": {},
   "outputs": [
    {
     "name": "stdout",
     "output_type": "stream",
     "text": [
      "/Users/hyorimlee/Documents/GitHub/neural_network/Fonts/\n",
      "hy궁서-yoond1004.ttf\n",
      "/Users/hyorimlee/Documents/GitHub/neural_network/Fonts/\n",
      "hy엽서m-yoond1004.ttf\n",
      "/Users/hyorimlee/Documents/GitHub/neural_network/Fonts/\n",
      "H2HDRM.TTF\n",
      "/Users/hyorimlee/Documents/GitHub/neural_network/Fonts/\n",
      ".DS_Store\n"
     ]
    },
    {
     "ename": "OSError",
     "evalue": "unknown file format",
     "output_type": "error",
     "traceback": [
      "\u001b[0;31m---------------------------------------------------------------------------\u001b[0m",
      "\u001b[0;31mOSError\u001b[0m                                   Traceback (most recent call last)",
      "File \u001b[0;32m/Library/Frameworks/Python.framework/Versions/3.8/lib/python3.8/site-packages/PIL/ImageFont.py:834\u001b[0m, in \u001b[0;36mtruetype\u001b[0;34m(font, size, index, encoding, layout_engine)\u001b[0m\n\u001b[1;32m    833\u001b[0m \u001b[38;5;28;01mtry\u001b[39;00m:\n\u001b[0;32m--> 834\u001b[0m     \u001b[38;5;28;01mreturn\u001b[39;00m \u001b[43mfreetype\u001b[49m\u001b[43m(\u001b[49m\u001b[43mfont\u001b[49m\u001b[43m)\u001b[49m\n\u001b[1;32m    835\u001b[0m \u001b[38;5;28;01mexcept\u001b[39;00m \u001b[38;5;167;01mOSError\u001b[39;00m:\n",
      "File \u001b[0;32m/Library/Frameworks/Python.framework/Versions/3.8/lib/python3.8/site-packages/PIL/ImageFont.py:831\u001b[0m, in \u001b[0;36mtruetype.<locals>.freetype\u001b[0;34m(font)\u001b[0m\n\u001b[1;32m    830\u001b[0m \u001b[38;5;28;01mdef\u001b[39;00m \u001b[38;5;21mfreetype\u001b[39m(font: StrOrBytesPath \u001b[38;5;241m|\u001b[39m BinaryIO \u001b[38;5;241m|\u001b[39m \u001b[38;5;28;01mNone\u001b[39;00m) \u001b[38;5;241m-\u001b[39m\u001b[38;5;241m>\u001b[39m FreeTypeFont:\n\u001b[0;32m--> 831\u001b[0m     \u001b[38;5;28;01mreturn\u001b[39;00m \u001b[43mFreeTypeFont\u001b[49m\u001b[43m(\u001b[49m\u001b[43mfont\u001b[49m\u001b[43m,\u001b[49m\u001b[43m \u001b[49m\u001b[43msize\u001b[49m\u001b[43m,\u001b[49m\u001b[43m \u001b[49m\u001b[43mindex\u001b[49m\u001b[43m,\u001b[49m\u001b[43m \u001b[49m\u001b[43mencoding\u001b[49m\u001b[43m,\u001b[49m\u001b[43m \u001b[49m\u001b[43mlayout_engine\u001b[49m\u001b[43m)\u001b[49m\n",
      "File \u001b[0;32m/Library/Frameworks/Python.framework/Versions/3.8/lib/python3.8/site-packages/PIL/ImageFont.py:257\u001b[0m, in \u001b[0;36mFreeTypeFont.__init__\u001b[0;34m(self, font, size, index, encoding, layout_engine)\u001b[0m\n\u001b[1;32m    256\u001b[0m             \u001b[38;5;28;01mreturn\u001b[39;00m\n\u001b[0;32m--> 257\u001b[0m     \u001b[38;5;28mself\u001b[39m\u001b[38;5;241m.\u001b[39mfont \u001b[38;5;241m=\u001b[39m \u001b[43mcore\u001b[49m\u001b[38;5;241;43m.\u001b[39;49m\u001b[43mgetfont\u001b[49m\u001b[43m(\u001b[49m\n\u001b[1;32m    258\u001b[0m \u001b[43m        \u001b[49m\u001b[43mfont\u001b[49m\u001b[43m,\u001b[49m\u001b[43m \u001b[49m\u001b[43msize\u001b[49m\u001b[43m,\u001b[49m\u001b[43m \u001b[49m\u001b[43mindex\u001b[49m\u001b[43m,\u001b[49m\u001b[43m \u001b[49m\u001b[43mencoding\u001b[49m\u001b[43m,\u001b[49m\u001b[43m \u001b[49m\u001b[43mlayout_engine\u001b[49m\u001b[38;5;241;43m=\u001b[39;49m\u001b[43mlayout_engine\u001b[49m\n\u001b[1;32m    259\u001b[0m \u001b[43m    \u001b[49m\u001b[43m)\u001b[49m\n\u001b[1;32m    260\u001b[0m \u001b[38;5;28;01melse\u001b[39;00m:\n",
      "\u001b[0;31mOSError\u001b[0m: unknown file format",
      "\nDuring handling of the above exception, another exception occurred:\n",
      "\u001b[0;31mOSError\u001b[0m                                   Traceback (most recent call last)",
      "Cell \u001b[0;32mIn[5], line 41\u001b[0m\n\u001b[1;32m     38\u001b[0m \u001b[38;5;28mprint\u001b[39m(ttf)\n\u001b[1;32m     40\u001b[0m \u001b[38;5;66;03m# 폰트 로드\u001b[39;00m\n\u001b[0;32m---> 41\u001b[0m font \u001b[38;5;241m=\u001b[39m \u001b[43mImageFont\u001b[49m\u001b[38;5;241;43m.\u001b[39;49m\u001b[43mtruetype\u001b[49m\u001b[43m(\u001b[49m\u001b[43mfont\u001b[49m\u001b[38;5;241;43m=\u001b[39;49m\u001b[43mfont_path\u001b[49m\u001b[43m \u001b[49m\u001b[38;5;241;43m+\u001b[39;49m\u001b[43m \u001b[49m\u001b[43mttf\u001b[49m\u001b[43m,\u001b[49m\u001b[43m \u001b[49m\u001b[43msize\u001b[49m\u001b[38;5;241;43m=\u001b[39;49m\u001b[38;5;241;43m100\u001b[39;49m\u001b[43m)\u001b[49m\n\u001b[1;32m     43\u001b[0m \u001b[38;5;66;03m# getbbox로 텍스트 크기 계산\u001b[39;00m\n\u001b[1;32m     44\u001b[0m bbox \u001b[38;5;241m=\u001b[39m font\u001b[38;5;241m.\u001b[39mgetbbox(unicode_char)\n",
      "File \u001b[0;32m/Library/Frameworks/Python.framework/Versions/3.8/lib/python3.8/site-packages/PIL/ImageFont.py:885\u001b[0m, in \u001b[0;36mtruetype\u001b[0;34m(font, size, index, encoding, layout_engine)\u001b[0m\n\u001b[1;32m    883\u001b[0m                     first_font_with_a_different_extension \u001b[38;5;241m=\u001b[39m fontpath\n\u001b[1;32m    884\u001b[0m \u001b[38;5;28;01mif\u001b[39;00m first_font_with_a_different_extension:\n\u001b[0;32m--> 885\u001b[0m     \u001b[38;5;28;01mreturn\u001b[39;00m \u001b[43mfreetype\u001b[49m\u001b[43m(\u001b[49m\u001b[43mfirst_font_with_a_different_extension\u001b[49m\u001b[43m)\u001b[49m\n\u001b[1;32m    886\u001b[0m \u001b[38;5;28;01mraise\u001b[39;00m\n",
      "File \u001b[0;32m/Library/Frameworks/Python.framework/Versions/3.8/lib/python3.8/site-packages/PIL/ImageFont.py:831\u001b[0m, in \u001b[0;36mtruetype.<locals>.freetype\u001b[0;34m(font)\u001b[0m\n\u001b[1;32m    830\u001b[0m \u001b[38;5;28;01mdef\u001b[39;00m \u001b[38;5;21mfreetype\u001b[39m(font: StrOrBytesPath \u001b[38;5;241m|\u001b[39m BinaryIO \u001b[38;5;241m|\u001b[39m \u001b[38;5;28;01mNone\u001b[39;00m) \u001b[38;5;241m-\u001b[39m\u001b[38;5;241m>\u001b[39m FreeTypeFont:\n\u001b[0;32m--> 831\u001b[0m     \u001b[38;5;28;01mreturn\u001b[39;00m \u001b[43mFreeTypeFont\u001b[49m\u001b[43m(\u001b[49m\u001b[43mfont\u001b[49m\u001b[43m,\u001b[49m\u001b[43m \u001b[49m\u001b[43msize\u001b[49m\u001b[43m,\u001b[49m\u001b[43m \u001b[49m\u001b[43mindex\u001b[49m\u001b[43m,\u001b[49m\u001b[43m \u001b[49m\u001b[43mencoding\u001b[49m\u001b[43m,\u001b[49m\u001b[43m \u001b[49m\u001b[43mlayout_engine\u001b[49m\u001b[43m)\u001b[49m\n",
      "File \u001b[0;32m/Library/Frameworks/Python.framework/Versions/3.8/lib/python3.8/site-packages/PIL/ImageFont.py:257\u001b[0m, in \u001b[0;36mFreeTypeFont.__init__\u001b[0;34m(self, font, size, index, encoding, layout_engine)\u001b[0m\n\u001b[1;32m    255\u001b[0m                 load_from_bytes(f)\n\u001b[1;32m    256\u001b[0m             \u001b[38;5;28;01mreturn\u001b[39;00m\n\u001b[0;32m--> 257\u001b[0m     \u001b[38;5;28mself\u001b[39m\u001b[38;5;241m.\u001b[39mfont \u001b[38;5;241m=\u001b[39m \u001b[43mcore\u001b[49m\u001b[38;5;241;43m.\u001b[39;49m\u001b[43mgetfont\u001b[49m\u001b[43m(\u001b[49m\n\u001b[1;32m    258\u001b[0m \u001b[43m        \u001b[49m\u001b[43mfont\u001b[49m\u001b[43m,\u001b[49m\u001b[43m \u001b[49m\u001b[43msize\u001b[49m\u001b[43m,\u001b[49m\u001b[43m \u001b[49m\u001b[43mindex\u001b[49m\u001b[43m,\u001b[49m\u001b[43m \u001b[49m\u001b[43mencoding\u001b[49m\u001b[43m,\u001b[49m\u001b[43m \u001b[49m\u001b[43mlayout_engine\u001b[49m\u001b[38;5;241;43m=\u001b[39;49m\u001b[43mlayout_engine\u001b[49m\n\u001b[1;32m    259\u001b[0m \u001b[43m    \u001b[49m\u001b[43m)\u001b[49m\n\u001b[1;32m    260\u001b[0m \u001b[38;5;28;01melse\u001b[39;00m:\n\u001b[1;32m    261\u001b[0m     load_from_bytes(font)\n",
      "\u001b[0;31mOSError\u001b[0m: unknown file format"
     ]
    },
    {
     "name": "stderr",
     "output_type": "stream",
     "text": [
      "/Users/hyorimlee/Library/Python/3.8/lib/python/site-packages/IPython/core/events.py:89: UserWarning: Glyph 44417 (\\N{HANGUL SYLLABLE GUNG}) missing from current font.\n",
      "  func(*args, **kwargs)\n",
      "/Users/hyorimlee/Library/Python/3.8/lib/python/site-packages/IPython/core/events.py:89: UserWarning: Glyph 49436 (\\N{HANGUL SYLLABLE SEO}) missing from current font.\n",
      "  func(*args, **kwargs)\n",
      "/Users/hyorimlee/Library/Python/3.8/lib/python/site-packages/IPython/core/events.py:89: UserWarning: Glyph 50685 (\\N{HANGUL SYLLABLE YEOB}) missing from current font.\n",
      "  func(*args, **kwargs)\n",
      "/Users/hyorimlee/Library/Python/3.8/lib/python/site-packages/IPython/core/pylabtools.py:152: UserWarning: Glyph 44417 (\\N{HANGUL SYLLABLE GUNG}) missing from current font.\n",
      "  fig.canvas.print_figure(bytes_io, **kw)\n",
      "/Users/hyorimlee/Library/Python/3.8/lib/python/site-packages/IPython/core/pylabtools.py:152: UserWarning: Glyph 49436 (\\N{HANGUL SYLLABLE SEO}) missing from current font.\n",
      "  fig.canvas.print_figure(bytes_io, **kw)\n",
      "/Users/hyorimlee/Library/Python/3.8/lib/python/site-packages/IPython/core/pylabtools.py:152: UserWarning: Glyph 50685 (\\N{HANGUL SYLLABLE YEOB}) missing from current font.\n",
      "  fig.canvas.print_figure(bytes_io, **kw)\n"
     ]
    },
    {
     "data": {
      "image/png": "[encoded data removed]",
      "text/plain": [
       "<Figure size 1500x1500 with 3 Axes>"
      ]
     },
     "metadata": {},
     "output_type": "display_data"
    }
   ],
   "source": [
    "import sys, os\n",
    "import numpy as np\n",
    "import matplotlib.pyplot as plt\n",
    "from PIL import Image, ImageDraw, ImageFont\n",
    "from tqdm import tqdm\n",
    "\n",
    "# 폰트 파일 경로 및 읽기\n",
    "font_path = \"/Users/hyorimlee/Documents/GitHub/neural_network/Fonts/\"\n",
    "fonts = os.listdir(font_path)\n",
    "\n",
    "# 테스트를 위해 최대 3개의 폰트만 사용\n",
    "font=fonts[0]\n",
    "\n",
    "# 한글 유니코드 범위 생성\n",
    "co = \"0 1 2 3 4 5 6 7 8 9 A B C D E F\"\n",
    "start = \"AC00\"\n",
    "end = \"D7A3\"\n",
    "\n",
    "co = co.split(\" \")\n",
    "\n",
    "Hangul_Syllables = [a + b + c + d for a in co for b in co for c in co for d in co]\n",
    "Hangul_Syllables = np.array(Hangul_Syllables)\n",
    "\n",
    "# 시작 및 종료 범위 설정\n",
    "s = np.where(Hangul_Syllables == start)[0][0]\n",
    "e = np.where(Hangul_Syllables == end)[0][0]\n",
    "\n",
    "Hangul_Syllables = Hangul_Syllables[s: e + 1]\n",
    "\n",
    "# 첫 번째 문자 선택\n",
    "unicode_char = chr(int(Hangul_Syllables[0], 16))\n",
    "\n",
    "# 시각화\n",
    "plt.figure(figsize=(15, 15))\n",
    "\n",
    "for idx, ttf in enumerate(fonts):\n",
    "    print(font_path)\n",
    "    print(ttf)\n",
    "    \n",
    "    # 폰트 로드\n",
    "    font = ImageFont.truetype(font=font_path + ttf, size=100)\n",
    "    \n",
    "    # getbbox로 텍스트 크기 계산\n",
    "    bbox = font.getbbox(unicode_char)\n",
    "    width, height = bbox[2] - bbox[0], bbox[3] - bbox[1]\n",
    "\n",
    "    # 이미지 생성\n",
    "    the_image = Image.new('RGB', (width + 10, height + 10), color='white')\n",
    "    draw_pad = ImageDraw.Draw(the_image)\n",
    "\n",
    "    # 텍스트 그리기\n",
    "    draw_pad.text((5, 5), unicode_char, font=font, fill='black')\n",
    "\n",
    "    # 서브플롯에 표시\n",
    "    plt.subplot(1, len(fonts), idx + 1)\n",
    "    plt.title(str(ttf))\n",
    "    plt.imshow(the_image)\n",
    "    plt.axis('off')\n",
    "\n",
    "plt.tight_layout()\n",
    "plt.show()\n"
   ]
  },
  {
   "cell_type": "markdown",
   "metadata": {},
   "source": [
    "# '가' 글씨 변환 성공 코드"
   ]
  },
  {
   "cell_type": "code",
   "execution_count": 32,
   "metadata": {},
   "outputs": [
    {
     "name": "stdout",
     "output_type": "stream",
     "text": [
      "Images saved to /Users/hyorimlee/Documents/GitHub/neural_network/Image/\n"
     ]
    }
   ],
   "source": [
    "import os\n",
    "import numpy as np\n",
    "from PIL import Image, ImageDraw, ImageFont\n",
    "\n",
    "# 폰트 파일 경로 및 읽기\n",
    "font_path = \"/Users/hyorimlee/Documents/GitHub/neural_network/Fonts/\"\n",
    "fonts = os.listdir(font_path)\n",
    "\n",
    "# 저장 경로 설정\n",
    "output_path = \"/Users/hyorimlee/Documents/GitHub/neural_network/Image/\"\n",
    "os.makedirs(output_path, exist_ok=True)\n",
    "\n",
    "# 한글 유니코드 범위 생성\n",
    "co = \"0 1 2 3 4 5 6 7 8 9 A B C D E F\"\n",
    "start = \"AC00\"\n",
    "end = \"D7A3\"\n",
    "\n",
    "co = co.split(\" \")\n",
    "\n",
    "Hangul_Syllables = [a + b + c + d for a in co for b in co for c in co for d in co]\n",
    "Hangul_Syllables = np.array(Hangul_Syllables)\n",
    "\n",
    "# 시작 및 종료 범위 설정\n",
    "s = np.where(Hangul_Syllables == start)[0][0]\n",
    "e = np.where(Hangul_Syllables == end)[0][0]\n",
    "\n",
    "Hangul_Syllables = Hangul_Syllables[s: e + 1]\n",
    "\n",
    "# 저장할 이미지 크기\n",
    "image_size = (64, 64)\n",
    "\n",
    "# 폴더 생성 및 데이터 저장\n",
    "for ttf in fonts:\n",
    "    font_folder = os.path.join(output_path, os.path.splitext(ttf)[0])\n",
    "    os.makedirs(font_folder, exist_ok=True)\n",
    "    \n",
    "    # 폰트 로드\n",
    "    font = ImageFont.truetype(font=font_path + ttf, size=48)  # 크기를 약간 작게 설정\n",
    "    \n",
    "    for idx, unicode_value in enumerate(Hangul_Syllables):\n",
    "        unicode_char = chr(int(unicode_value, 16))\n",
    "        \n",
    "        # 64x64 크기 이미지 생성\n",
    "        the_image = Image.new('L', image_size, color='white')  # 흰 배경, 회색조 이미지\n",
    "        draw_pad = ImageDraw.Draw(the_image)\n",
    "        \n",
    "        # 텍스트 크기 계산 및 중앙 배치\n",
    "        bbox = font.getbbox(unicode_char)\n",
    "        text_width = bbox[2] - bbox[0]\n",
    "        text_height = bbox[3] - bbox[1]\n",
    "        x_offset = (image_size[0] - text_width) // 2\n",
    "        y_offset = (image_size[1] - text_height) // 2\n",
    "        \n",
    "        # 텍스트 그리기\n",
    "        draw_pad.text((x_offset, y_offset), unicode_char, font=font, fill='black')\n",
    "        \n",
    "        # 파일 저장\n",
    "        file_name = f\"{unicode_value}.png\"\n",
    "        file_path = os.path.join(font_folder, file_name)\n",
    "        the_image.save(file_path, format=\"PNG\")\n",
    "        \n",
    "        # 제한된 샘플만 테스트\n",
    "        if idx >= 10:  # 10개 샘플만 저장 (테스트용)\n",
    "            break\n",
    "\n",
    "print(f\"Images saved to {output_path}\")\n"
   ]
  },
  {
   "cell_type": "markdown",
   "metadata": {},
   "source": [
    "# 폰트 이미지로 변경 성공 코드"
   ]
  },
  {
   "cell_type": "code",
   "execution_count": 36,
   "metadata": {},
   "outputs": [
    {
     "name": "stdout",
     "output_type": "stream",
     "text": [
      "Bitmap images saved in /Users/hyorimlee/Documents/GitHub/neural_network/Image/\n"
     ]
    }
   ],
   "source": [
    "import os\n",
    "from PIL import Image, ImageDraw, ImageFont\n",
    "\n",
    "# 설정\n",
    "font_path = \"/Users/hyorimlee/Documents/GitHub/neural_network/Fonts/\"\n",
    "fonts = [f for f in os.listdir(font_path) if not f.startswith(\".\")]  # 숨김 파일 제외\n",
    "output_path = \"/Users/hyorimlee/Documents/GitHub/neural_network/Image/\"\n",
    "os.makedirs(output_path, exist_ok=True)\n",
    "\n",
    "# 데이터셋 파일 읽기\n",
    "dataset_file = \"/Users/hyorimlee/Documents/GitHub/neural_network/dataset.txt\"\n",
    "with open(dataset_file, \"r\", encoding=\"utf-8\") as file:\n",
    "    characters = file.read().replace(\"\\n\", \"\").replace(\" \", \"\")  # 공백 및 줄바꿈 제거\n",
    "\n",
    "# 이미지 크기 설정\n",
    "image_size = (64, 64)\n",
    "\n",
    "# 모든 폰트를 순회하며 처리\n",
    "for ttf in fonts:\n",
    "    font_folder = os.path.join(output_path, os.path.splitext(ttf)[0])\n",
    "    os.makedirs(font_folder, exist_ok=True)\n",
    "    \n",
    "    # 폰트 로드\n",
    "    font = ImageFont.truetype(font=font_path + ttf, size=48)  # 적절한 크기로 설정\n",
    "    \n",
    "    for char in characters:\n",
    "        # 비트맵 이미지 생성 (1비트 모드)\n",
    "        the_image = Image.new('1', image_size, color=1)  # 흰 배경 (1은 흰색)\n",
    "        draw_pad = ImageDraw.Draw(the_image)\n",
    "        \n",
    "        # 텍스트 크기 계산 및 중앙 배치\n",
    "        bbox = font.getbbox(char)\n",
    "        text_width = bbox[2] - bbox[0]\n",
    "        text_height = bbox[3] - bbox[1]\n",
    "        x_offset = (image_size[0] - text_width) // 2\n",
    "        y_offset = (image_size[1] - text_height) // 2\n",
    "        \n",
    "        # 텍스트 그리기\n",
    "        draw_pad.text((x_offset, y_offset), char, font=font, fill=0)  # 검정 텍스트 (0은 검정색)\n",
    "        \n",
    "        # 파일 저장\n",
    "        file_name = f\"{ord(char):04X}.bmp\"  # 유니코드 값을 16진수로 변환해 파일 이름 설정\n",
    "        file_path = os.path.join(font_folder, file_name)\n",
    "        the_image.save(file_path, format=\"BMP\")\n",
    "\n",
    "print(f\"Bitmap images saved in {output_path}\")\n"
   ]
  },
  {
   "cell_type": "markdown",
   "metadata": {},
   "source": [
    "# 폰트 폴더마다 제대로 이미지 들어갔는지 개수 확인하는 코드\n",
    "### 총 154글자 들어가야함"
   ]
  },
  {
   "cell_type": "code",
   "execution_count": 8,
   "metadata": {},
   "outputs": [
    {
     "name": "stdout",
     "output_type": "stream",
     "text": [
      "Folder 'Image' contains 1 file(s).\n",
      "Folder 'hy궁서-yoond1004' contains 154 file(s).\n",
      "Folder 'H2HDRM' contains 154 file(s).\n"
     ]
    }
   ],
   "source": [
    "import os\n",
    "\n",
    "# 폴더 경로 설정\n",
    "folder_path = \"/Users/hyorimlee/Documents/GitHub/neural_network/Image\"\n",
    "\n",
    "# 파일 개수 세기\n",
    "for subdir, dirs, files in os.walk(folder_path):\n",
    "    folder_name = os.path.basename(subdir)  # 현재 폴더 이름\n",
    "    file_count = len(files)  # 현재 폴더 내 파일 개수\n",
    "    print(f\"Folder '{folder_name}' contains {file_count} file(s).\")\n"
   ]
  },
  {
   "cell_type": "markdown",
   "metadata": {},
   "source": [
    "# 64*64 bmp 파일로 만드는 코드"
   ]
  },
  {
   "cell_type": "code",
   "execution_count": 6,
   "metadata": {},
   "outputs": [
    {
     "name": "stdout",
     "output_type": "stream",
     "text": [
      "Bitmap images saved in /Users/hyorimlee/Documents/GitHub/neural_network/Image/\n"
     ]
    }
   ],
   "source": [
    "import os\n",
    "from PIL import Image, ImageDraw, ImageFont\n",
    "\n",
    "# 설정\n",
    "font_path = \"/Users/hyorimlee/Documents/GitHub/neural_network/Fonts/\"\n",
    "fonts = [f for f in os.listdir(font_path) if not f.startswith(\".\")]  # 숨김 파일 제외\n",
    "output_path = \"/Users/hyorimlee/Documents/GitHub/neural_network/Image/\"\n",
    "os.makedirs(output_path, exist_ok=True)\n",
    "\n",
    "# 데이터셋 파일 읽기\n",
    "dataset_file = \"/Users/hyorimlee/Documents/GitHub/neural_network/dataset.txt\"\n",
    "with open(dataset_file, \"r\", encoding=\"utf-8\") as file:\n",
    "    characters = file.read().replace(\"\\n\", \"\").replace(\" \", \"\")  # 공백 및 줄바꿈 제거\n",
    "\n",
    "# 이미지 크기 설정\n",
    "image_size = (64, 64)\n",
    "\n",
    "# 모든 폰트를 순회하며 처리\n",
    "for ttf in fonts:\n",
    "    font_folder = os.path.join(output_path, os.path.splitext(ttf)[0])\n",
    "    os.makedirs(font_folder, exist_ok=True)\n",
    "    \n",
    "    # 폰트 로드\n",
    "    font = ImageFont.truetype(font=font_path + ttf, size=48)  # 적절한 크기로 설정\n",
    "    \n",
    "    for char in characters:\n",
    "        # 비트맵 이미지 생성 (1비트 모드)\n",
    "        the_image = Image.new('1', image_size, color=1)  # 흰 배경 (1은 흰색)\n",
    "        draw_pad = ImageDraw.Draw(the_image)\n",
    "        \n",
    "        # 텍스트 크기 계산 및 중앙 배치\n",
    "        bbox = font.getbbox(char)\n",
    "        text_width = bbox[2] - bbox[0]\n",
    "        text_height = bbox[3] - bbox[1]\n",
    "        x_offset = max((image_size[0] - text_width) // 2, 0)\n",
    "        y_offset = max((image_size[1] - text_height) // 2, 0)\n",
    "        \n",
    "        # 텍스트 그리기\n",
    "        draw_pad.text((x_offset, y_offset), char, font=font, fill=0)  # 검정 텍스트 (0은 검정색)\n",
    "        \n",
    "        # 파일 저장\n",
    "        file_name = f\"{ord(char):04X}.bmp\"  # 유니코드 값을 16진수로 변환해 파일 이름 설정\n",
    "        file_path = os.path.join(font_folder, file_name)\n",
    "        the_image.save(file_path, format=\"BMP\")\n",
    "\n",
    "print(f\"Bitmap images saved in {output_path}\")\n"
   ]
  },
  {
   "cell_type": "markdown",
   "metadata": {},
   "source": [
    "# 하나하나 저장하기"
   ]
  },
  {
   "cell_type": "code",
   "execution_count": null,
   "metadata": {},
   "outputs": [
    {
     "name": "stdout",
     "output_type": "stream",
     "text": [
      "Bitmap images saved in /Users/hyorimlee/Documents/GitHub/neural_network/Image/\n"
     ]
    }
   ],
   "source": [
    "import os\n",
    "from PIL import Image, ImageDraw, ImageFont\n",
    "\n",
    "# 설정\n",
    "font_path = \"/Users/hyorimlee/Documents/GitHub/neural_network/Fonts/\"\n",
    "fonts = [f for f in os.listdir(font_path) if not f.startswith(\".\")]  # 숨김 파일 제외\n",
    "output_path = \"/Users/hyorimlee/Documents/GitHub/neural_network/Image/\"\n",
    "os.makedirs(output_path, exist_ok=True)\n",
    "\n",
    "# 데이터셋 파일 읽기\n",
    "dataset_file = \"/Users/hyorimlee/Documents/GitHub/neural_network/dataset.txt\"\n",
    "with open(dataset_file, \"r\", encoding=\"utf-8\") as file:\n",
    "    characters = file.read().replace(\"\\n\", \"\").replace(\" \", \"\")  # 공백 및 줄바꿈 제거\n",
    "\n",
    "# 이미지 크기 설정\n",
    "image_size = (64, 64)\n",
    "\n",
    "ttf=\"malgun.ttf\"\n",
    "font_folder = os.path.join(output_path, os.path.splitext(ttf)[0])\n",
    "os.makedirs(font_folder, exist_ok=True)\n",
    "\n",
    "# 폰트 로드\n",
    "font = ImageFont.truetype(font=font_path + ttf, size=48)  # 적절한 크기로 설정\n",
    "\n",
    "for char in characters:\n",
    "    # 비트맵 이미지 생성 (1비트 모드)\n",
    "    the_image = Image.new('1', image_size, color=1)  # 흰 배경 (1은 흰색)\n",
    "    draw_pad = ImageDraw.Draw(the_image)\n",
    "    \n",
    "    # 텍스트 크기 계산 및 중앙 배치\n",
    "    bbox = font.getbbox(char)\n",
    "    text_width = bbox[2] - bbox[0]\n",
    "    text_height = bbox[3] - bbox[1]\n",
    "    x_offset = max((image_size[0] - text_width) // 2, 0)\n",
    "    y_offset = max((image_size[1] - text_height) // 2 - 10, 0)\n",
    "\n",
    "    # 텍스트 그리기\n",
    "    draw_pad.text((x_offset, y_offset), char, font=font, fill=0)  # 검정 텍스트 (0은 검정색)\n",
    "\n",
    "    \n",
    "    # 파일 저장\n",
    "    file_name = f\"{ord(char):04X}.bmp\"  # 유니코드 값을 16진수로 변환해 파일 이름 설정\n",
    "    file_path = os.path.join(font_folder, file_name)\n",
    "    the_image.save(file_path, format=\"BMP\")\n",
    "\n",
    "print(f\"Bitmap images saved in {output_path}\")\n"
   ]
  },
  {
   "cell_type": "code",
   "execution_count": null,
   "metadata": {},
   "outputs": [],
   "source": []
  }
 ],
 "metadata": {
  "kernelspec": {
   "display_name": "Python 3",
   "language": "python",
   "name": "python3"
  },
  "language_info": {
   "codemirror_mode": {
    "name": "ipython",
    "version": 3
   },
   "file_extension": ".py",
   "mimetype": "text/x-python",
   "name": "python",
   "nbconvert_exporter": "python",
   "pygments_lexer": "ipython3",
   "version": "3.8.5"
  }
 },
 "nbformat": 4,
 "nbformat_minor": 2
}
