{
 "cells": [
  {
   "cell_type": "markdown",
   "metadata": {},
   "source": [
    "# BMP를 CSV 파일로 변환\n"
   ]
  },
  {
   "cell_type": "code",
   "execution_count": 3,
   "metadata": {},
   "outputs": [
    {
     "name": "stdout",
     "output_type": "stream",
     "text": [
      "Processing folder: H2GTRE\n",
      "CSV 파일 생성 완료: ../Data/font_data.csv\n"
     ]
    }
   ],
   "source": [
    "import os\n",
    "import csv\n",
    "from PIL import Image\n",
    "import numpy as np\n",
    "\n",
    "def process_bmp_folder(input_folder, output_csv):\n",
    "    \"\"\"\n",
    "    BMP 파일이 여러 폴더에 저장되어 있는 데이터를 읽어와 CSV 파일로 변환합니다.\n",
    "    빈 데이터는 -999로 대체하여 처리합니다.\n",
    "\n",
    "    Args:\n",
    "        input_folder (str): BMP 파일이 있는 최상위 폴더 경로\n",
    "        output_csv (str): 생성될 CSV 파일 경로\n",
    "    \"\"\"\n",
    "    # CSV 파일 열기\n",
    "    with open(output_csv, mode='w', newline='') as csv_file:\n",
    "        csv_writer = csv.writer(csv_file)\n",
    "\n",
    "        # 각 폰트 폴더를 탐색\n",
    "        for font_folder in os.listdir(input_folder):\n",
    "            font_path = os.path.join(input_folder, font_folder)\n",
    "\n",
    "            # 폰트 폴더인지 확인\n",
    "            if not os.path.isdir(font_path):\n",
    "                continue\n",
    "\n",
    "            print(f\"Processing folder: {font_folder}\")\n",
    "\n",
    "            i = 0\n",
    "            # BMP 파일 탐색\n",
    "            for bmp_file in sorted(os.listdir(font_path)):\n",
    "                if not bmp_file.endswith('.bmp'):\n",
    "                    continue\n",
    "\n",
    "                target_value = i\n",
    "\n",
    "                # BMP 파일 읽기\n",
    "                bmp_path = os.path.join(font_path, bmp_file)\n",
    "                img = Image.open(bmp_path).convert('L')  # Grayscale 변환\n",
    "                img = img.resize((28, 28), Image.Resampling.LANCZOS)  # 28x28로 크기 조정\n",
    "                img_data = np.asarray(img).flatten()  # 1D 배열로 변환\n",
    "\n",
    "                # 입력 데이터 스케일링 (0.01 ~ 1.0)\n",
    "                scaled_data = (img_data / 255.0 * 0.99) + 0.01\n",
    "\n",
    "                # 결측값 처리: 잘못된 값이나 빈 값을 -999로 대체\n",
    "                scaled_data = [float(x) if x != '' else -999 for x in scaled_data]\n",
    "\n",
    "                # CSV 한 줄 구성: [타겟값, 입력 데이터...]\n",
    "                row = [float(target_value)] + scaled_data\n",
    "                csv_writer.writerow(row)\n",
    "                i += 1\n",
    "\n",
    "        print(f\"CSV 파일 생성 완료: {output_csv}\")\n",
    "\n",
    "# 사용 예시\n",
    "input_folder = \"../Image\"  # BMP 파일이 있는 최상위 폴더 경로\n",
    "output_csv = \"../Data/font_data.csv\"  # 생성될 CSV 파일 경로\n",
    "process_bmp_folder(input_folder, output_csv)\n"
   ]
  },
  {
   "cell_type": "markdown",
   "metadata": {},
   "source": [
    "# csv 파일에서 값 들고와서 plot 그려보기\n",
    "데이터 제대로 생성됐는지 확인하기\n"
   ]
  },
  {
   "cell_type": "code",
   "execution_count": 4,
   "metadata": {},
   "outputs": [
    {
     "name": "stdout",
     "output_type": "stream",
     "text": [
      "Target Value: 81.0\n"
     ]
    },
    {
     "data": {
      "image/png": "[encoded data removed]",
      "text/plain": [
       "<Figure size 640x480 with 2 Axes>"
      ]
     },
     "metadata": {},
     "output_type": "display_data"
    }
   ],
   "source": [
    "import csv\n",
    "import numpy as np\n",
    "import matplotlib.pyplot as plt\n",
    "\n",
    "def plot_csv_data(csv_file, row_index=0):\n",
    "    \"\"\"\n",
    "    CSV 파일에서 특정 행의 데이터를 28x28 그레이스케일 플롯으로 시각화합니다.\n",
    "    \n",
    "    Args:\n",
    "        csv_file (str): CSV 파일 경로\n",
    "        row_index (int): 시각화할 행의 인덱스 (기본값: 0번째 행)\n",
    "    \"\"\"\n",
    "    with open(csv_file, mode='r') as file:\n",
    "        reader = csv.reader(file)\n",
    "        rows = list(reader)\n",
    "        \n",
    "        # 선택한 행 가져오기\n",
    "        selected_row = rows[row_index]\n",
    "        \n",
    "        # 0번째 값 (타겟값) 출력\n",
    "        target_value = selected_row[0]\n",
    "        print(f\"Target Value: {target_value}\")\n",
    "        \n",
    "        # 1번째 값부터 끝까지 가져와서 64x64로 변환\n",
    "        pixel_data = np.array(selected_row[1:], dtype=float).reshape((28,28))\n",
    "        \n",
    "        # 이미지 플롯\n",
    "        plt.imshow(pixel_data, cmap='gray')\n",
    "        plt.title(f\"Gray Plot (Target: {target_value})\")\n",
    "        plt.colorbar()\n",
    "        plt.show()\n",
    "\n",
    "# 사용 예시\n",
    "csv_file = \"../Data/font_data.csv\"  # 생성한 CSV 파일 경로\n",
    "plot_csv_data(csv_file, row_index=81)\n"
   ]
  },
  {
   "cell_type": "markdown",
   "metadata": {},
   "source": []
  }
 ],
 "metadata": {
  "kernelspec": {
   "display_name": "Python 3",
   "language": "python",
   "name": "python3"
  },
  "language_info": {
   "codemirror_mode": {
    "name": "ipython",
    "version": 3
   },
   "file_extension": ".py",
   "mimetype": "text/x-python",
   "name": "python",
   "nbconvert_exporter": "python",
   "pygments_lexer": "ipython3",
   "version": "3.8.5"
  }
 },
 "nbformat": 4,
 "nbformat_minor": 2
}
