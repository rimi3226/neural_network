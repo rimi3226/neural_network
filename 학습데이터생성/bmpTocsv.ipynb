{
 "cells": [
  {
   "cell_type": "markdown",
   "metadata": {},
   "source": [
    "# BMP를 CSV 파일로 변환\n"
   ]
  },
  {
   "cell_type": "code",
   "execution_count": 2,
   "metadata": {},
   "outputs": [
    {
     "name": "stdout",
     "output_type": "stream",
     "text": [
      "Processing folder: NanumSquareNeo-aLt\n",
      "Processing folder: MaruBuri-Bold\n",
      "Processing folder: NanumGothic\n",
      "CSV 파일 생성 완료: ../Data/font_data.csv\n"
     ]
    }
   ],
   "source": [
    "import os\n",
    "import csv\n",
    "from PIL import Image\n",
    "import numpy as np\n",
    "\n",
    "def process_bmp_folder(input_folder, output_csv):\n",
    "    \"\"\"\n",
    "    BMP 파일이 여러 폴더에 저장되어 있는 데이터를 읽어와 CSV 파일로 변환합니다.\n",
    "\n",
    "    Args:\n",
    "        input_folder (str): BMP 파일이 있는 최상위 폴더 경로\n",
    "        output_csv (str): 생성될 CSV 파일 경로\n",
    "    \"\"\"\n",
    "    # CSV 파일 열기\n",
    "    with open(output_csv, mode='w', newline='') as csv_file:\n",
    "        csv_writer = csv.writer(csv_file)\n",
    "\n",
    "        # 각 폰트 폴더를 탐색\n",
    "        for font_folder in os.listdir(input_folder):\n",
    "            font_path = os.path.join(input_folder, font_folder)\n",
    "\n",
    "            # 폰트 폴더인지 확인\n",
    "            if not os.path.isdir(font_path):\n",
    "                continue\n",
    "\n",
    "            print(f\"Processing folder: {font_folder}\")\n",
    "\n",
    "            # BMP 파일 탐색\n",
    "            for bmp_file in sorted(os.listdir(font_path)):\n",
    "                if not bmp_file.endswith('.bmp'):\n",
    "                    continue\n",
    "\n",
    "                # BMP 파일의 유니코드 값을 타겟값으로 사용 (예: AC00 → 타겟값)\n",
    "                target_char = bmp_file.split('.')[0]\n",
    "                target_value = int(target_char, 16)\n",
    "\n",
    "                # BMP 파일 읽기\n",
    "                bmp_path = os.path.join(font_path, bmp_file)\n",
    "                img = Image.open(bmp_path).convert('L')  # Grayscale 변환\n",
    "                img = img.resize((28, 28), Image.Resampling.LANCZOS)  # 28x28로 크기 조정\n",
    "                img_data = np.asarray(img).flatten()  # 1D 배열로 변환\n",
    "\n",
    "                # 입력 데이터 스케일링 (0.01 ~ 1.0)\n",
    "                scaled_data = (img_data / 255.0 * 0.99) + 0.01\n",
    "\n",
    "                # CSV 한 줄 구성: [타겟값, 입력 데이터...]\n",
    "                row = [target_value] + scaled_data.tolist()\n",
    "                csv_writer.writerow(row)\n",
    "\n",
    "        print(f\"CSV 파일 생성 완료: {output_csv}\")\n",
    "\n",
    "# 사용 예시\n",
    "input_folder = \"../Image\"  # BMP 파일이 있는 최상위 폴더 경로\n",
    "output_csv = \"../Data/font_data.csv\"  # 생성될 CSV 파일 경로\n",
    "process_bmp_folder(input_folder, output_csv)\n"
   ]
  },
  {
   "cell_type": "code",
   "execution_count": null,
   "metadata": {},
   "outputs": [],
   "source": []
  }
 ],
 "metadata": {
  "kernelspec": {
   "display_name": "Python 3",
   "language": "python",
   "name": "python3"
  },
  "language_info": {
   "codemirror_mode": {
    "name": "ipython",
    "version": 3
   },
   "file_extension": ".py",
   "mimetype": "text/x-python",
   "name": "python",
   "nbconvert_exporter": "python",
   "pygments_lexer": "ipython3",
   "version": "3.8.5"
  }
 },
 "nbformat": 4,
 "nbformat_minor": 2
}
